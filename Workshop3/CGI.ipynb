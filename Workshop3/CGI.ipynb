{
 "cells": [
  {
   "cell_type": "code",
   "execution_count": null,
   "id": "1097d5ae",
   "metadata": {},
   "outputs": [],
   "source": [
    "# for request,gives JobID\n",
    "import requests\n",
    "\n",
    "headers = {'Authorization': 'melgulerw@gmail.com 61d143091bdec2ff17c2'}\n",
    "payload = {'cancer_type': 'PAAD', 'title': ' Analysis (123)', 'reference': 'hg38'}\n",
    "r = requests.post('https://www.cancergenomeinterpreter.org/api/v1',\n",
    "                headers=headers,\n",
    "                files={\n",
    "                        'translocations': open('/Users/melike/Desktop/input_prot.tsv', 'rb')\n",
    "                        },\n",
    "                data=payload)\n",
    "r.json()\n",
    "print(r.json())\n"
   ]
  },
  {
   "cell_type": "code",
   "execution_count": null,
   "id": "a6c7c181",
   "metadata": {},
   "outputs": [],
   "source": [
    "import requests\n",
    "headers = {'Authorization': 'melgulerw@gmail.com 61d143091bdec2ff17c2'}\n",
    "r = requests.get('https://www.cancergenomeinterpreter.org/api/v1', headers=headers)\n",
    "r.json()  "
   ]
  },
  {
   "cell_type": "code",
   "execution_count": null,
   "id": "e3dacf57",
   "metadata": {},
   "outputs": [],
   "source": [
    "import requests\n",
    "headers = {'Authorization': 'melgulerw@gmail.com 61d143091bdec2ff17c2'}\n",
    "r = requests.get('https://www.cancergenomeinterpreter.org/api/v1/e053630dfda08a140f4b', headers=headers)\n",
    "r.json()  "
   ]
  },
  {
   "cell_type": "code",
   "execution_count": null,
   "id": "47c314cc",
   "metadata": {},
   "outputs": [],
   "source": [
    "# dowloand the results\n",
    "import requests\n",
    "headers = {'Authorization': 'melgulerw@gmail.com 61d143091bdec2ff17c2'}\n",
    "payload={'action':'download'}\n",
    "r = requests.get('https://www.cancergenomeinterpreter.org/api/v1/e053630dfda08a140f4b', headers=headers, params=payload)\n",
    "with open('file3.zip', 'wb') as fd:\n",
    "    fd.write(r._content)\n",
    "                    "
   ]
  },
  {
   "cell_type": "code",
   "execution_count": null,
   "id": "58bf260c",
   "metadata": {},
   "outputs": [],
   "source": [
    "# Deleting a job\n",
    "                    \n",
    "import requests\n",
    "headers = {'Authorization': 'melgulerw@gmail.com 61d143091bdec2ff17c2'}\n",
    "r = requests.delete('https://www.cancergenomeinterpreter.org/api/v1/e053630dfda08a140f4b', headers=headers)\n",
    "r.json()\n",
    "             "
   ]
  },
  {
   "cell_type": "code",
   "execution_count": null,
   "id": "d8574892",
   "metadata": {},
   "outputs": [],
   "source": []
  }
 ],
 "metadata": {
  "kernelspec": {
   "display_name": "Python 3 (ipykernel)",
   "language": "python",
   "name": "python3"
  },
  "language_info": {
   "codemirror_mode": {
    "name": "ipython",
    "version": 3
   },
   "file_extension": ".py",
   "mimetype": "text/x-python",
   "name": "python",
   "nbconvert_exporter": "python",
   "pygments_lexer": "ipython3",
   "version": "3.11.4"
  }
 },
 "nbformat": 4,
 "nbformat_minor": 5
}
