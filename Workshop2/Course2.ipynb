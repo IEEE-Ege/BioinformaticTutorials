{
 "cells": [
  {
   "cell_type": "markdown",
   "metadata": {},
   "source": [
    "## Looping for Python: for and while\n",
    "\n",
    "Both the for-loop and the while-loop have different use cases. The for-loop is, as in the previous example, used to iterate over something. This can be a simple counter (a list of values), a list of strings, actually any object that is put into an iterable. So for-loops are to loop through a fixed list. A while-loop has a different purpose as it does not iterate through a list, but has a conditional that is tested before each iteration. If the condition is True, it will execute the code-block, and when the conditional is False, the while-loop is finished. A while-loop is used to continue iterating until for example a user presses a key or a certain precision has been achieved for a minimization process."
   ]
  },
  {
   "cell_type": "markdown",
   "metadata": {},
   "source": [
    "In many other languages it is common to create for-loops to have a counter, which is then used to iterate through a data structure. In Python you can directly iterate through an iterable such as a list. Let us have a look at some some examples:"
   ]
  },
  {
   "cell_type": "code",
   "execution_count": null,
   "metadata": {},
   "outputs": [],
   "source": [
    "fruit_basket = ['apples', 'bananas', 'pears']\n",
    "\n",
    "# the standard for-loop\n",
    "for fruit in fruit_basket:\n",
    "    print('The basket contains:', fruit)\n",
    "\n",
    "# There are a couple of useful list manipulations\n",
    "for fruit in reversed(fruit_basket):\n",
    "    print('The reversed basket contains:', fruit)\n",
    "\n",
    "# create a iterable from 0 to 9 (10 is not included)\n",
    "for number in range(10):\n",
    "    print(f'number {number}')\n",
    "\n",
    "# combining two (or more) lists using zip:\n",
    "persons = ['Alfred', 'Rob', 'Jeroen', 'Hendri', 'Coen', 'Dennis']\n",
    "cake_type = ['apple pie', 'tompouce', 'brownies', 'butterkuchen', 'carrot cake', 'bossche bollen']\n",
    "for person, cake in zip(persons, cake_type):\n",
    "    print(f'{person} likes {cake} a lot!')\n",
    "    \n",
    "# if a number is needed, add enumerate\n",
    "for ix, fruit in enumerate(fruit_basket):\n",
    "    print(f'The numbered basket contains: {fruit} ({ix + 1})')\n",
    "    \n",
    "# enumerate is the same as zipping a range with the length of the iterable\n",
    "for ix, fruit in zip(range(len(fruit_basket)), fruit_basket):\n",
    "    print(f'The numbered basket contains: {fruit} ({ix + 1})')"
   ]
  },
  {
   "cell_type": "markdown",
   "metadata": {},
   "source": [
    "A for-loop starts with the for keyword followed by a variable name. This variable name will be used to reference the current item of the list. As Python is dynamically typed, you do not have to bother with assigning a type. This will be set by the Python interpreter dynamically. After the variable name comes the keyword in followed by the iterable and a semicolon. Similar to if-statements, the code in the loop is identified by indentation. The indentation, together with clear semantics, makes these loops extremely readable."
   ]
  },
  {
   "cell_type": "markdown",
   "metadata": {},
   "source": [
    "Python comes already packed with quite some handy tools to manipulate lists. For example to reverse a list, you can use the built-in reversed() method. These types of methods take an iterable (such as a list) and return a new iterable with the applied manipulation. Some of these methods such as reversed() are also built into the list class itself (my_list.reverse()). The difference is however that those methods change the list itself (because lists are mutable), and do not return a new list."
   ]
  },
  {
   "cell_type": "markdown",
   "metadata": {},
   "source": [
    "Sometimes, you need to have a counter or index when iterating. For that special case, Python comes with enumerate, which ‘zips’ your list with sequentially increasing numbers. Zip can combine a multiple lists to a single iterable that can be unpacked in a loop. Of course, all lists have to be of the same length, or you will get an error."
   ]
  },
  {
   "cell_type": "markdown",
   "metadata": {},
   "source": [
    "The range() method is used to create a list of numbers. It accepts one or two boundary values and a step. Range() returns a special type of iterable, which is a range object ([it is not a generator](https://treyhunner.com/2018/02/python-range-is-not-an-iterator/)). In our previous examples, we supplied a list to the for-loop. This list is completely defined somewhere in memory and waiting to be referenced by the for-loop. If we would do the same with a large range of numbers, we first need to create this list. This can take a large chunk of memory, especially when we are iterating over millions of values (range(1e12)). For such cases, Python has generators, which is a form of ‘lazy execution’. Only when the value is required, i.e. when the for-loop asked for it, it is generated. While range has some subtle differences with generators, the idea is somewhat similar: only get the value you need, when you need it, without creating the full list of numbers first."
   ]
  },
  {
   "cell_type": "markdown",
   "metadata": {},
   "source": [
    "Similar to if-statements, for-loops can also be nested. Of course, you need to make sure that the variable for both for-loops are unique. The second for-loop starts in the next indentation level and this increases with each additional for-loop. While Python is fine with you adding large amounts of nested for-loops, in general, three is generally a good maximum. If you end up using more, it is time to look into strategies reducing the amount of looping. Looping is slow and if you need lots of looping, vectorization is probably what you want."
   ]
  },
  {
   "cell_type": "code",
   "execution_count": null,
   "metadata": {},
   "outputs": [],
   "source": [
    "# continue goes on with the next iteration\n",
    "for number in range(1, 4):\n",
    "    for another_number in range(1, 4):\n",
    "        if number == another_number:\n",
    "            continue\n",
    "        print(f'{number} x {another_number} = {number * another_number}')\n",
    "\n",
    "# break stops the iteration, not doing an else\n",
    "for word in 'here are some words in a string'.split():\n",
    "    if word == 'in':\n",
    "        break\n",
    "    print(f'the word \"{word}\" has {len(word)} characters')\n",
    "else:\n",
    "    print('Iteration done!')\n",
    "    \n",
    "# else can be added as a final code-block if the loop was successful\n",
    "for word in 'more words here'.split():\n",
    "    print(f'the word \"{word}\" has {len(word)} characters')\n",
    "else:\n",
    "    print('Iteration done!')"
   ]
  },
  {
   "cell_type": "markdown",
   "metadata": {},
   "source": [
    "Both, the for-loop and the while-loop have break and continue keywords to have additional control on the looping flow. When issuing a break, the current loop is stopped, i.e. if you are in a for-loop, the looping is stopped. If you are in a nested for-loop, the current level of the for-loop is stopped. Using continue you can go to the next iteration, neglecting any statements after the continue keyword. These keywords give additional controls of the flow, but are for specific use-cases."
   ]
  },
  {
   "cell_type": "markdown",
   "metadata": {},
   "source": [
    "I have never used the for-else or while-else construct but it might have some use-cases. It is however quite easy to understand. If the for-loop or while-loop was successful, i.e. without breaks or errors, the code-block defined after the else is executed."
   ]
  },
  {
   "cell_type": "markdown",
   "metadata": {},
   "source": [
    "While-loops are the other construct of creating loops in Python. The while-loop tests a condition instead of looping through an iterable. A while-loop starts with the keyword while followed by the conditional and a semicolon."
   ]
  },
  {
   "cell_type": "code",
   "execution_count": null,
   "metadata": {},
   "outputs": [],
   "source": [
    "value = 1\n",
    "while value >= 0.5:\n",
    "    value -= 0.01  # short-hand notation of value = value - 1\n",
    "else:\n",
    "    print('final value is:', value)\n",
    "\n",
    "# a typical \"never-ending\" while-loop\n",
    "counter = 0\n",
    "while True:\n",
    "    counter += 1  # short-hand notation of value = value + 1\n",
    "    if counter > 10:\n",
    "        break\n",
    "print('counter is:', counter)"
   ]
  },
  {
   "cell_type": "markdown",
   "metadata": {},
   "source": [
    "-a while loop is indefinite iteration\n",
    "\n",
    "-a while loop repeats code while the expression is True\n",
    "\n",
    "-it exits the loop if the expression is False\n",
    "\n",
    "-the break and continue statements change the loop behavior"
   ]
  },
  {
   "cell_type": "markdown",
   "metadata": {},
   "source": [
    "A construct that you see commonly in Python-based restFul API servers is a never-ending while-loop. These loops, keep running forever (or until a user aborts the program (or an error occurs)), because the condition that is provided is the constant True. True, never changes to False, as it is the truest of True, and the while can only be stopped by the break keyword or divine intervention. The conditional in the while-loop is similar to the one in the if-statement. Therefore, you can combine multiple using the logical operators (and, not, or). Also, if you want to code the loop later, you can use the pass placeholder.\n",
    "\n",
    "## Defining functions and stop repeating yourself\n",
    "\n",
    "A function is a block of code that is reusable and specifically designed to do a certain task. You have already seen quite some functions, namely the built-in print() and len(). To call a function, you have to type its name with parenthesis after it. The name without the parenthesis is the reference which points to the function (everything in Python is an object remember?). A function can be called without parameters, meaning that there is nothing between the parenthesis. Many functions do however take one or more parameters and these can be supplied as variables or values, separated with a comma. Defining a function is done using the def keyword followed by a function name, a set of parenthesis, and a semicolon. All code is indented, similar to a for-loop or if-else statements. As a convention, the naming of a function is similar to variable names: all lower case with words separated using a underscore. Try to be short but concise. It is good practice to create a DocString for a function you create. Of course, it is not required when it is very clear what the function does, so use common sense when to create a DocString or comment to prevent over-commenting."
   ]
  },
  {
   "cell_type": "code",
   "execution_count": 1,
   "metadata": {},
   "outputs": [
    {
     "name": "stdout",
     "output_type": "stream",
     "text": [
      "This is my first function\n",
      "value 1: 10       --  value 2: 25\n",
      "value 1: 3.14159  --  value 2: Wow, so pi!\n",
      "Adding 1 to 25 gives us 26\n"
     ]
    },
    {
     "data": {
      "text/plain": [
       "NoneType"
      ]
     },
     "execution_count": 1,
     "metadata": {},
     "output_type": "execute_result"
    }
   ],
   "source": [
    "# a function without any parameters\n",
    "def my_function():\n",
    "    \"\"\"\n",
    "    My first toy function\n",
    "    \"\"\"\n",
    "    print('This is my first function')\n",
    "\n",
    "my_function()\n",
    "\n",
    "# a function with parameters\n",
    "def my_other_function(value1, value2):\n",
    "    \"\"\"\n",
    "    Prints two values to the screen\n",
    "    \"\"\"\n",
    "    print(f'value 1: {value1:<7}  --  value 2: {value2}')\n",
    "\n",
    "my_other_function(10, 25)\n",
    "my_other_function(3.14159, 'Wow, so pi!')  # Dynamic types: anything is okay for Python\n",
    "\n",
    "\n",
    "# a function that returns values\n",
    "def add_one(value):\n",
    "    \"\"\"\n",
    "    Adding one to the provided value\n",
    "    \"\"\"\n",
    "    new_value = value + 1\n",
    "    return new_value\n",
    "\n",
    "result = add_one(13)\n",
    "print(f'Adding 1 to 25 gives us {add_one(25)}')    \n",
    "\n",
    "# Actually a Python function always returns an object (None type if nothing is provided)\n",
    "def procrastinate():\n",
    "    \"\"\"\n",
    "    Too lazy to comment\n",
    "    \"\"\"\n",
    "    pass\n",
    "\n",
    "result = procrastinate()\n",
    "type(result)  # the built-in type function returns the class of the object"
   ]
  },
  {
   "cell_type": "markdown",
   "metadata": {},
   "source": [
    "The parameters that a function takes are dynamically typed and are not restricted by Python itself. Of course, if you provide a string and the function tries to square the string, it will raise an error. Type checking is the responsibility of the user and is a good practice for code that is shared between multiple users, especially if the code base is large. For smaller projects and code only for you, you can choose not to do type checking, with a chance of getting bugs. Developers like to go even one step further and change the default dynamically typed behavior of Python into static types. Since Python 3.6 you can provide the types for each parameter and the return value in the function definition. While I understand the benefit for debugging, I have never bothered. I guess with larger programs it might be more important, but for data science purposes I think data integrity is more important than static typing. On the other side, it is not to much work to apply. Here is a [great guide on static typing](https://medium.com/@ageitgey/learn-how-to-use-static-type-checking-in-python-3-6-in-10-minutes-12c86d72677b) in Python. Sometimes the dynamical typing is used as a benefit. A function can test for its type and do different things for different objects. Many packages like Numpy or Pandas use this to create an array or DataFrame from different datatypes. If we would statically type this, we would have to create different functions for each datatype. Dynamical typing can be a blessing, but it can also be a burden according to others. I have never found it problematic for any of my use cases."
   ]
  },
  {
   "cell_type": "code",
   "execution_count": 2,
   "metadata": {},
   "outputs": [
    {
     "name": "stdout",
     "output_type": "stream",
     "text": [
      "String provided: Hi there!\n",
      "List of strings: Hi there I am a list!\n",
      "Type not usable\n",
      "wine <---> beer\n",
      "milk <---> chocolate\n",
      "25%\n",
      "12.5!\n",
      "Arguments 1: hi\n",
      "Arguments 2: there\n"
     ]
    }
   ],
   "source": [
    "# Using dynamical typing to do different things for different inputs\n",
    "# This is also usable to do a more custom type checking\n",
    "def my_function(string_or_list):\n",
    "    \"\"\"\n",
    "    Print a string or a list of strings\n",
    "    \"\"\"\n",
    "    if type(string_or_list) == str:\n",
    "        print('String provided:', string_or_list)\n",
    "    elif type(string_or_list) == list:\n",
    "        print('List of strings:', ' '.join(string_or_list))\n",
    "    else:\n",
    "        print('Type not usable')\n",
    "\n",
    "input_value1 = 'Hi there!'\n",
    "input_value2 = ['Hi', 'there', 'I', 'am', 'a', 'list!']\n",
    "\n",
    "my_function(input_value1)\n",
    "my_function(input_value2)\n",
    "my_function(3.14159)\n",
    "\n",
    "\n",
    "# Named parameters\n",
    "def another_function(left_value, right_value):\n",
    "    \"\"\"\n",
    "    Print values in an amazing format\n",
    "    \"\"\"\n",
    "    print(f'{left_value} <---> {right_value}')\n",
    "\n",
    "# parameters can always be given in a named fashion (order does not matter)\n",
    "another_function(right_value='beer', left_value='wine')\n",
    "# however unnamed parameters are always from left to right\n",
    "another_function('milk', 'chocolate')\n",
    "\n",
    "\n",
    "# default values\n",
    "def yet_another_function(number, text='%'):\n",
    "    \"\"\"\n",
    "    Print value as a precentage\n",
    "    \"\"\"\n",
    "    print(f'{number}{text}')\n",
    "\n",
    "# values with defaults are not required but optional\n",
    "yet_another_function(25)\n",
    "yet_another_function(12.5, text='!')\n",
    "\n",
    "\n",
    "# arbitrary amount of parameters\n",
    "def my_function(*args):\n",
    "    for ix, arg in enumerate(args):\n",
    "        print(f'Arguments {ix+1}: {arg}')\n",
    "\n",
    "my_function('hi', 'there')"
   ]
  },
  {
   "cell_type": "markdown",
   "metadata": {},
   "source": [
    "Another way to provide parameters to a function is to use named parameters. These are also called key — value parameters and start with the defined parameter name followed by an equal sign and the assigned value or variable. For short functions, i.e. function with only one or two parameters, people do not really bother but when it is a complex function with many parameters, these help tremendously with readability. As the parameters are assigned explicitly, the order in which they are provided does not matter. If you for some reason match named parameters with standard sequential parameters, the order does matter, so you should be careful when doing this. In a similar manor, default values can also be provided in the definition of the function. This makes the parameter optional, as it already has a value assigned. All parameters that do not have a default value, are automatically flagged as required parameters and an error will be raised if they are not provided. Another common practice is to assign the None type as a default value. This makes the parameter optional and in the function itself you can test if the parameter is of type None or something else and act accordingly. Of course, such idioms are quite specific in their use case."
   ]
  }
 ],
 "metadata": {
  "kernelspec": {
   "display_name": "Python 3",
   "language": "python",
   "name": "python3"
  },
  "language_info": {
   "codemirror_mode": {
    "name": "ipython",
    "version": 3
   },
   "file_extension": ".py",
   "mimetype": "text/x-python",
   "name": "python",
   "nbconvert_exporter": "python",
   "pygments_lexer": "ipython3",
   "version": "3.11.3"
  }
 },
 "nbformat": 4,
 "nbformat_minor": 4
}
