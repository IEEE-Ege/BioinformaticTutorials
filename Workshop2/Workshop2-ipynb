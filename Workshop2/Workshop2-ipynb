## How to find the reverse complement of DNA sequences
**Procedure**
- obtain the DNA sequence
- find the reverse of the DNA sequence
- find the complement of the reverse sequence
**Step1:** obtain your DNA sequence
DNA="ATCTAGAGGATATAC"
print(DNA)
**Step 2:** find the reverse of the DNA sequence
#create a function that finds the reverse of a sequence
def reverse_sequence(sequence):
    reverse=sequence[::-1]
    return reverse

#call the function to find the reverse of the sequence
reverse=reverse_sequence(DNA)
print(reverse)
print('forward:',DNA)
print('reverse:',reverse)
**Step 3**: find the complement of the reverse sequence
#create a function to find the complement of a sequence
def complement_sequence(sequence):
    base_complements={'A':'T','T':'A','C':'G','G':'C'}
    complement_of_sequence=[base_complements[base] for base in sequence]
    complement_of_sequence=''.join(complement_of_sequence)
    return complement_of_sequence

#call the function to find the complement of the reverse sequence
reverse_complement=complement_sequence(reverse)
print(reverse_complement)
How to write this function with **While**?
def complement_sequence_while(sequence):
    base_complements = {'A': 'T', 'T': 'A', 'C': 'G', 'G': 'C'}
    complement_of_sequence = ''
    i = 0
    while i < len(sequence):
        complement_of_sequence += base_complements[sequence[i]]
        i += 1
    return complement_of_sequence

reverse_sequence = DNA[::-1]  # Reverse the DNA sequence
reverse_complement = complement_sequence_while(reverse_sequence)
print("Reverse Complement (while):", reverse_complement)

How to write this function with **For**?
def complement_sequence_for(sequence):
    base_complements = {'A': 'T', 'T': 'A', 'C': 'G', 'G': 'C'}
    complement_of_sequence = ''
    for base in sequence:
        complement_of_sequence += base_complements[base]
    return complement_of_sequence

# Call the function to find the reverse complement
DNA = "ATCTAGAGGATATAC"
reverse_sequence = DNA[::-1]  # Reverse the DNA sequence
reverse_complement = complement_sequence_for(reverse_sequence)
print("Reverse Complement (for):", reverse_complement)

print('forward            ',DNA)
print('reverse:           ',reverse)
print('reverse complement:',reverse_complement)
## Find the reverse complement of multiple nucleotide sequences
The strategy is to combine loops and functions
DNASEQUENCES=['ATCGA','TTAGC','ACCTAG']
#approach1
for sequence in DNASEQUENCES:
    reverse=reverse_sequence(sequence)
    reverse_complement=complement_sequence(reverse)
    print('sequence:          ',sequence)
    print('reverse:           ',reverse)
    print('reverse complement:',reverse_complement)
#approach2:
def reverse_complement(sequence):
    reverse=reverse_sequence(sequence)
    reverse_complement=complement_sequence(reverse)
    return reverse_complement

for sequence in DNASEQUENCES:
    r_complement=reverse_complement(sequence)
    print('sequence:          ',sequence)
    print('reverse complement:',r_complement)
