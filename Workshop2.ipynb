{
 "cells": [
  {
   "cell_type": "markdown",
   "id": "empirical-baghdad",
   "metadata": {},
   "source": [
    "## How to find the reverse complement of DNA sequences"
   ]
  },
  {
   "cell_type": "markdown",
   "id": "cdb30bb4",
   "metadata": {},
   "source": [
    "**Procedure**\n",
    "- obtain the DNA sequence\n",
    "- find the reverse of the DNA sequence\n",
    "- find the complement of the reverse sequence"
   ]
  },
  {
   "cell_type": "markdown",
   "id": "efb3ce92",
   "metadata": {},
   "source": [
    "**Step1:** obtain your DNA sequence"
   ]
  },
  {
   "cell_type": "code",
   "execution_count": 1,
   "id": "3be7c158",
   "metadata": {},
   "outputs": [],
   "source": [
    "DNA=\"ATCTAGAGGATATAC\""
   ]
  },
  {
   "cell_type": "code",
   "execution_count": 2,
   "id": "9b57d0f2",
   "metadata": {},
   "outputs": [
    {
     "name": "stdout",
     "output_type": "stream",
     "text": [
      "ATCTAGAGGATATAC\n"
     ]
    }
   ],
   "source": [
    "print(DNA)"
   ]
  },
  {
   "cell_type": "markdown",
   "id": "22d290ae",
   "metadata": {},
   "source": [
    "**Step 2:** find the reverse of the DNA sequence"
   ]
  },
  {
   "cell_type": "code",
   "execution_count": 3,
   "id": "f36ad4fe",
   "metadata": {},
   "outputs": [],
   "source": [
    "#create a function that finds the reverse of a sequence\n",
    "def reverse_sequence(sequence):\n",
    "    reverse=sequence[::-1]\n",
    "    return reverse\n",
    "\n",
    "#call the function to find the reverse of the sequence\n",
    "reverse=reverse_sequence(DNA)"
   ]
  },
  {
   "cell_type": "code",
   "execution_count": 4,
   "id": "156575eb",
   "metadata": {},
   "outputs": [
    {
     "name": "stdout",
     "output_type": "stream",
     "text": [
      "CATATAGGAGATCTA\n"
     ]
    }
   ],
   "source": [
    "print(reverse)"
   ]
  },
  {
   "cell_type": "code",
   "execution_count": 5,
   "id": "e8411d12",
   "metadata": {
    "scrolled": false
   },
   "outputs": [
    {
     "name": "stdout",
     "output_type": "stream",
     "text": [
      "forward: ATCTAGAGGATATAC\n",
      "reverse: CATATAGGAGATCTA\n"
     ]
    }
   ],
   "source": [
    "print('forward:',DNA)\n",
    "print('reverse:',reverse)"
   ]
  },
  {
   "cell_type": "markdown",
   "id": "f2838f57",
   "metadata": {},
   "source": [
    "**Step 3**: find the complement of the reverse sequence"
   ]
  },
  {
   "cell_type": "code",
   "execution_count": 6,
   "id": "61f8254b",
   "metadata": {},
   "outputs": [],
   "source": [
    "#create a function to find the complement of a sequence\n",
    "def complement_sequence(sequence):\n",
    "    base_complements={'A':'T','T':'A','C':'G','G':'C'}\n",
    "    complement_of_sequence=[base_complements[base] for base in sequence]\n",
    "    complement_of_sequence=''.join(complement_of_sequence)\n",
    "    return complement_of_sequence\n",
    "\n",
    "#call the function to find the complement of the reverse sequence\n",
    "reverse_complement=complement_sequence(reverse)"
   ]
  },
  {
   "cell_type": "code",
   "execution_count": 7,
   "id": "f2495723",
   "metadata": {},
   "outputs": [
    {
     "name": "stdout",
     "output_type": "stream",
     "text": [
      "GTATATCCTCTAGAT\n"
     ]
    }
   ],
   "source": [
    "print(reverse_complement)"
   ]
  },
  {
   "cell_type": "markdown",
   "id": "ac9d83bc",
   "metadata": {
    "vscode": {
     "languageId": "html"
    }
   },
   "source": [
    "How to write this function with **While**?"
   ]
  },
  {
   "cell_type": "code",
   "execution_count": 8,
   "id": "bb18e0df",
   "metadata": {},
   "outputs": [
    {
     "name": "stdout",
     "output_type": "stream",
     "text": [
      "Reverse Complement (while): GTATATCCTCTAGAT\n"
     ]
    }
   ],
   "source": [
    "def complement_sequence_while(sequence):\n",
    "    base_complements = {'A': 'T', 'T': 'A', 'C': 'G', 'G': 'C'}\n",
    "    complement_of_sequence = ''\n",
    "    i = 0\n",
    "    while i < len(sequence):\n",
    "        complement_of_sequence += base_complements[sequence[i]]\n",
    "        i += 1\n",
    "    return complement_of_sequence\n",
    "\n",
    "reverse_sequence = DNA[::-1]  # Reverse the DNA sequence\n",
    "reverse_complement = complement_sequence_while(reverse_sequence)\n",
    "print(\"Reverse Complement (while):\", reverse_complement)\n"
   ]
  },
  {
   "cell_type": "markdown",
   "id": "c4771ab1",
   "metadata": {},
   "source": [
    "How to write this function with **For**?"
   ]
  },
  {
   "cell_type": "code",
   "execution_count": 9,
   "id": "6d28dac7",
   "metadata": {},
   "outputs": [
    {
     "name": "stdout",
     "output_type": "stream",
     "text": [
      "Reverse Complement (for): GTATATCCTCTAGAT\n"
     ]
    }
   ],
   "source": [
    "def complement_sequence_for(sequence):\n",
    "    base_complements = {'A': 'T', 'T': 'A', 'C': 'G', 'G': 'C'}\n",
    "    complement_of_sequence = ''\n",
    "    for base in sequence:\n",
    "        complement_of_sequence += base_complements[base]\n",
    "    return complement_of_sequence\n",
    "\n",
    "# Call the function to find the reverse complement\n",
    "DNA = \"ATCTAGAGGATATAC\"\n",
    "reverse_sequence = DNA[::-1]  # Reverse the DNA sequence\n",
    "reverse_complement = complement_sequence_for(reverse_sequence)\n",
    "print(\"Reverse Complement (for):\", reverse_complement)\n"
   ]
  },
  {
   "cell_type": "code",
   "execution_count": 10,
   "id": "2eda1ae0",
   "metadata": {},
   "outputs": [
    {
     "name": "stdout",
     "output_type": "stream",
     "text": [
      "forward             ATCTAGAGGATATAC\n",
      "reverse:            CATATAGGAGATCTA\n",
      "reverse complement: GTATATCCTCTAGAT\n"
     ]
    }
   ],
   "source": [
    "print('forward            ',DNA)\n",
    "print('reverse:           ',reverse)\n",
    "print('reverse complement:',reverse_complement)"
   ]
  },
  {
   "cell_type": "markdown",
   "id": "d83e3cf2",
   "metadata": {},
   "source": [
    "## Find the reverse complement of multiple nucleotide sequences"
   ]
  },
  {
   "cell_type": "markdown",
   "id": "34b78417",
   "metadata": {},
   "source": [
    "The strategy is to combine loops and functions"
   ]
  },
  {
   "cell_type": "code",
   "execution_count": null,
   "id": "e3bf1d5c",
   "metadata": {},
   "outputs": [],
   "source": [
    "DNASEQUENCES=['ATCGA','TTAGC','ACCTAG']"
   ]
  },
  {
   "cell_type": "code",
   "execution_count": 50,
   "id": "7439cf49",
   "metadata": {},
   "outputs": [
    {
     "name": "stdout",
     "output_type": "stream",
     "text": [
      "sequence:           ATCGA\n",
      "reverse:            AGCTA\n",
      "reverse complement: TCGAT\n",
      "sequence:           TTAGC\n",
      "reverse:            CGATT\n",
      "reverse complement: GCTAA\n",
      "sequence:           ACCTAG\n",
      "reverse:            GATCCA\n",
      "reverse complement: CTAGGT\n"
     ]
    }
   ],
   "source": [
    "#approach1\n",
    "for sequence in DNASEQUENCES:\n",
    "    reverse=reverse_sequence(sequence)\n",
    "    reverse_complement=complement_sequence(reverse)\n",
    "    print('sequence:          ',sequence)\n",
    "    print('reverse:           ',reverse)\n",
    "    print('reverse complement:',reverse_complement)"
   ]
  },
  {
   "cell_type": "code",
   "execution_count": 55,
   "id": "4d817bcc",
   "metadata": {
    "scrolled": true
   },
   "outputs": [
    {
     "name": "stdout",
     "output_type": "stream",
     "text": [
      "sequence:           ATCGA\n",
      "reverse complement: TCGAT\n",
      "sequence:           TTAGC\n",
      "reverse complement: GCTAA\n",
      "sequence:           ACCTAG\n",
      "reverse complement: CTAGGT\n"
     ]
    }
   ],
   "source": [
    "#approach2:\n",
    "def reverse_complement(sequence):\n",
    "    reverse=reverse_sequence(sequence)\n",
    "    reverse_complement=complement_sequence(reverse)\n",
    "    return reverse_complement\n",
    "\n",
    "for sequence in DNASEQUENCES:\n",
    "    r_complement=reverse_complement(sequence)\n",
    "    print('sequence:          ',sequence)\n",
    "    print('reverse complement:',r_complement)"
   ]
  }
 ],
 "metadata": {
  "kernelspec": {
   "display_name": "Python 3 (ipykernel)",
   "language": "python",
   "name": "python3"
  },
  "language_info": {
   "codemirror_mode": {
    "name": "ipython",
    "version": 3
   },
   "file_extension": ".py",
   "mimetype": "text/x-python",
   "name": "python",
   "nbconvert_exporter": "python",
   "pygments_lexer": "ipython3",
   "version": "3.11.3"
  }
 },
 "nbformat": 4,
 "nbformat_minor": 5
}
