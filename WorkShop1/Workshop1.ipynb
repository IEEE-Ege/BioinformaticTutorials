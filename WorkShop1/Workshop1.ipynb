{
 "cells": [
  {
   "cell_type": "markdown",
   "metadata": {
    "id": "HtBI5u0eE_rU"
   },
   "source": [
    "# Summary\n",
    "\n",
    "- Introduction\n",
    "  - Genomics;\n",
    "  - Genomic analysis;\n",
    "  - Masters in Bioinformatics;\n",
    "  - Banks and genomic files.\n",
    "\n",
    "- Code\n",
    "  - Dataframes and data visualization.\n",
    "\n",
    "- Activities\n",
    "<br>\n",
    "\n",
    "---\n",
    "\n",
    "<br>"
   ]
  },
  {
   "cell_type": "markdown",
   "metadata": {
    "id": "Iuhl_-B2XxcQ"
   },
   "source": [
    "# 1. Introduction\n",
    "<br>\n",
    "\n",
    "### Genome Analysis.\n",
    "\n",
    "- Sequencing;\n",
    "- Genome Assembly;\n",
    "- Annotation.\n",
    "\n",
    "<br>\n",
    "\n",
    "Genome analysis can be divided into three processes: sequencing, genome assembly and genome annotation. The first step is to determine the order of the bases A, T, C, G in the DNA and can be in many ways (what types of sequencing do you know?). The second step refers to the alignment and joining of DNA fragments sequenced in order to form a long DNA sequence. This process is necessary due to the sequencing techniques used. Finally, with the DNA sequence in hand and \"assembled\", the genome is annotated, which identifies the location and possible functions of each element in the genome, such as genes (what are the other elements?). In the end, there are countless possibilities for studies that can be done with these genomes! In my master's project, I used these genomes to understand the evolution and architecture of minimal introns.\n",
    "\n",
    "<br>\n",
    "\n",
    "\n",
    "<img src=https://c6yee71hg9-flywheel.netdna-ssl.com/wp-content/uploads/2019/01/denovo_assembly.jpg, width=\"500\">\n",
    "\n",
    "<br>\n",
    "<br>\n",
    "\n",
    "### Masters: \"Study of the evolution and architecture of minimal introns\".\n",
    "\n",
    "- Study Object: Introns (more specifically, minimal introns);\n",
    "- Review of concepts in the field of Molecular Biology.\n",
    "    - Genome;\n",
    "    - Organization of genomes, chromosomes;\n",
    "    - Genic and intergenic regions;\n",
    "    - Division in genes: exons and introns.\n",
    "    - One gene, several mRNAs.\n",
    "    \n",
    "<br>\n",
    "\n",

    "As a reminder: genes are now described because they are divided into regions known as exons and introns. Inters, in a \"raw\" way, are defined as non-coding sequences. For most eukaryotic introns, introns are taken from the gene by means of a complex machinery called spliceosome in a process known as <i> splicing </i>. Before, introns were thought to be junk DNA (could you tell me why this fame?), But we now know that they are very important for the proper functioning of a cell! For example, have you heard of alternative <i> splicing </i> and what is its biggest consequence? Could you tell me what other functions introns have?\n",
    "\n",
    "<br>\n",
    "\n",
    "![](https://media.springernature.com/full/springer-static/image/art%3A10.1038%2Fnature08909/MediaObjects/41586_2010_BFnature08909_Fig1_HTML.jpg)\n",
    "alternative <i>Splicing</i>, source: [Nilsen e Graveley (2010) ](https://www.nature.com/articles/nature08909).\n",
    "\n",
    "<br>\n",
    "\n",
    "But and minimal introns, what are they? Well, let's leave it to us to answer this question at the end of this class!\n",
    "\n",
    "<br>\n",
    "\n",
    "Back to the project ... To make this study \"of the evolution and architecture of minimal introns\", I analyzed the genome of several organisms, from flatworms, such as <i> Schistossoma mansoni </i> and <i> Echinococcus multilocularis </i> , to several deuterostomes, such as star and sea cucumber, <i> Ciona intestinalis </i>, and several representatives of vertebrates, such as: <i> Danio rerio </i> (fish), <i> Xenopus tropicalis < / i> (frog), <i> Mexican terrapene </i> (turtle), <i> Crocodylus porosus </i> (crocodile), <i> Gallus gallus </i> (rooster) and <i> Homo sapiens </i> But where to look for all these genomes?\n",
    "\n",
    "<br>\n",
    "<br>\n",
    "\n",
    "### Database and Sequencing Files.\n",
    "\n",
    "- NCBI and Ensembl;\n",
    "- GFF and FASTA.\n",
    "<br>\n",
    "\n",
    "But after all, where can we find these genomes? There are numerous databases, not only with the genome of organisms, but also with data on proteins, RNA, etc. The two most famous banks for the genome are: [NCBI] (https://www.ncbi.nlm.nih.gov/genome) and [Ensembl] (https://www.ensembl.org/index.html) . In addition to these, genomes can also be found in more specific banks, such as [Worm base] (https://wormbase.org//#012-34-5). In these banks, we find two important files, GFF and FASTA.\n",
    "\n",
    "<br>\n",
    "\n",
    "#### - Format of a biological sequence file - FASTA\n",
    "\n",
    "The FASTA format is quite simple, identifying and presenting the biological sequence shortly thereafter. Let's take a look at the bank of Schistosoma mansoni </i> [Worm base](https://wormbase.org//#012-34-5):\n",
    "\n",
    "\n",
    ">\\>SM_V7_1\n",
    "\n",
    ">TGATAGTTAGTCATATGAAAGCATCATTAGTAAACCACATTGCTTATTATATTGAACAGT\n",
    "\n",
    ">TACATCTGGCTTATTATACAAAGAGAAAACCATACTATTCATACTATTCTCTTTTTGATC\n",
    "\n",
    ">TTCTCAATCTTCTGTTGTTAGATATTCTATTCCTTGCTCACCATATATACTACTTATGTC\n",
    "\n",
    ">AATATAAGTAGCTCACACCACACTACTACTTCAACTACTACTACTACTGCTACTGCTACT\n",
    "\n",
    ">GTTGTGAACAGAACACGACTGTTGGACAATCGAATCTAATTAAGCAAACATTACAAACTA\n",
    "\n",
    ">TCTCAGTAAATTGTAATAACCATACAATGGACAGTTAATTTGCAAATTATCAACCAATAG\n",
    "\n",
    ">TCTCCATGTTCACTGTTTGTTCTTTAATTCCATTGCTTAAAGTTACTTGGTAAAATGCAA\n",
    "\n",
    ">AAACCATACTATGATACTCTATTTGCAAAATGTTCTTCAATTGTCTCAGGCTTCATTGTT\n",
    "\n",
    ">CCTGGATTTCCACACAAATTGCTTTTTATTTCTGTTCTTCTCTTCTTGATCTTCTCAATC\n",
    "\n",
    "\n",
    "\n",
    "But did you know that FASTA was not really a format? In fact the name comes from a program first used for protein alignment, called FASTA ([Lipman & Pearson, 1985](https://science.sciencemag.org/content/227/4693/1435)). The format used by _software_ became so characteristic that it ended up establishing itself, with some additional details that do not fit in this class. The important thing is to know that we have a sequence of nucleotides and amino acids, containing an identifier (which can be little or very informative).\n",
    "\n",
    "<br>\n",
    "\n",
    "#### - GFF File\n",
    "\n",
    "With only the FASTA file, would you be able to tell where the genes, exons, introns, *splicing* sites or any other characteristic of the genome are? Difficult right? The goal now is to show how we can find regions of interest in the chromosomes of a genome. We need to have an additional document, which is the genome annotation file.\n",
    "\n",
    "There are two main formats, *General Feature Format* (GFF) and *General Transfer Format* (GTF). In GFF, each annotation will be arranged on a line and there are columns separated by tabs, which represent:\n",
    "\n",
    " * Sequence name (seqname): Name of the chromosome or *scaffold* where this annotation is located;\n",
    " * Source: Name of the program or source that generated the information;\n",
    " * Biological type (type): biological type of this annotation\n",
    "   * gene;\n",
    "   * transcript;\n",
    "   * exon;\n",
    "   * CDS;\n",
    "   * five_prime_utr;\n",
    "   * three_prime_utr;\n",
    "   * start_codon;\n",
    "   * stop_codon.\n",
    "\n",
    " * Beginning of the location of this annotation in the genome (start);\n",
    "\n",
    " * End of the location of this annotation in the genome (end);\n",
    "\n",
    " * Score;\n",
    "\n",
    " * Strand: Indicates whether the annotation is on the positive (+) or negative (-) strand;\n",
    "\n",
    " * Reading frame (phase): Indication of the start position of the annotation codon. It can take the values '0', '1', '2' or '.';\n",
    "\n",
    " * Attribute: Additional information about the annotation.\n",
    "\n",
    "Attention: Empty columns are marked by a '.', Do not be alarmed by the number of them!\n",
    "\n",
    "Is everything okay so far? It is more interesting to see what this type of file looks like, so that you understand what a characteristic of the genome looks like. If in doubt, please ask us.\n",
    "\n",
    "| seqname        | source | feature | start | end | score | strand | phase | attributes                                        |\n",
    "|----------------|--------|---------|-------|-----|-------|--------|-------|---------------------------------------------------|\n",
    "| NW_020171334.1 | RefSeq | gene    | 121   | 544 | .     | -      | .     | ID=gene0;Dbxref=GeneID:36347034;Name=EGR_11329... |\n",
    "| NW_020171334.1 | RefSeq | mRNA    | 121   | 544 | .     | -      | .     | ID=rna0;Parent=gene0;Dbxref=GeneID:36347034,Ge... |\n",
    "| NW_020171334.1 | RefSeq | exon    | 488   | 544 | .     | -      | .     | ID=id4;Parent=rna0;Dbxref=GeneID:36347034,Genb... |\n",
    "| NW_020171334.1 | RefSeq | exon    | 121   | 183 | .     | -      | .     | ID=id5;Parent=rna0;Dbxref=GeneID:36347034,Genb... |\n",
    "| NW_020171334.1 | RefSeq | CDS     | 488   | 544 | .     | -      | 0     | ID=cds0;Parent=rna0;Dbxref=GeneID:36347034,Gen... |\n",
    "| NW_020171334.1 | RefSeq | CDS     | 121   | 183 | .     | -      | 0     | ID=cds0;Parent=rna0;Dbxref=GeneID:36347034,Gen... |\n",
    "\n",
    "In GFF3 there may be some information in the file header, marked by a #. The first line must contain _ ## gff-version 3_. More information can be found at [Ensembl](https://www.ensembl.org/info/website/upload/gff3.html). \n",
    "\n",
    "Now, a question remains: You just found the genome version in a given database, but realized that there is no annotation file. Could you use annotation from another version of the genome?\n",
    "\n",
    "<br>\n",
    "\n",
    "---\n",
    "\n",
    "<br>"
   ]
  },
  {
   "cell_type": "markdown",
   "metadata": {
    "id": "cHunq8M1Xxcl"
   },
   "source": [
    "# 2. Code\n",
    "\n",
    "Today, we will have the following activities that we will carry out together during the morning. They are:\n",
    "\n",
    "- obtain information on the exons of <i> Schistosoma mansoni </i> using the genome annotation file (gff);\n",
    "- explore information obtained (maximum exon size, average, number of exons per gene, etc.);\n",
    "- visualization of data (plots).\n",
    "\n",
    "<br>\n",
    "\n",
    "Before we start, let's remember what they are:\n",
    "- functions;\n",
    "- library;\n",
    "- string;\n",
    "- integer and float;\n",
    "- list;\n",
    "- dictionary;\n",
    "- dataframe.\n",
    "\n",
    "<br>\n",
    "\n",
    "\n",
    "Now, how about we get our hands dirty? In this activity, you will need some of the knowledge you acquired in the other days of the course, such as: library, methods of opening files, python objects, dataframe, etc. **Our goal here is to make a file that contains information on exons!** For this task, we will analyze the genome of _Schistosoma mansoni_, a platelminto famous for causing Schistosomiasis, popularly known as \"Bilharziose\", \"Schistosa\" or \"Belly\" of water \". At the end, we will have a file in table format with the following columns:\n",
    "- location of the exon in a contig / chromosome;\n",
    "- gene in which this exon is found;\n",
    "- mRNA in which this exon is found;\n",
    "- order of appearance of this exon in the gene in which it is found\n",
    "- size of this exon;\n",
    "- the initial position of this exon in the genome (do you know the reference for this location?);\n",
    "- final position of this exon in the genome;\n",
    "- tape on which this exon occurs."
   ]
  },
  {
   "cell_type": "markdown",
   "metadata": {
    "id": "bylcSPFbOcpS"
   },
   "source": [
    "Notice!\n",
    "\n",
    "As we are using colab, we need to install the desired libraries and inform which versions we will be using. In this lesson, we will start using the Pandas library for data manipulation and then we will use the Matplotlib library for data visualization. It is a good habit to concentrate the installation / import of all the libraries that we will use in our script / program in the first lines of code, as we will do next:"
   ]
  },
  {
   "cell_type": "code",
   "execution_count": 6,
   "metadata": {
    "colab": {
     "base_uri": "https://localhost:8080/",
     "height": 291
    },
    "id": "9UmDIkwROil7",
    "outputId": "8065bcad-31c2-495f-baca-38516ba80da2"
   },
   "outputs": [
    {
     "name": "stdout",
     "output_type": "stream",
     "text": [
      "Collecting pandas==1.1.2\n",
      "  Using cached pandas-1.1.2.tar.gz (5.2 MB)\n",
      "  Installing build dependencies ... \u001b[?25lerror\n",
      "  \u001b[1;31merror\u001b[0m: \u001b[1msubprocess-exited-with-error\u001b[0m\n",
      "  \n",
      "  \u001b[31m×\u001b[0m \u001b[32mpip subprocess to install build dependencies\u001b[0m did not run successfully.\n",
      "  \u001b[31m│\u001b[0m exit code: \u001b[1;36m1\u001b[0m\n",
      "  \u001b[31m╰─>\u001b[0m \u001b[31m[58 lines of output]\u001b[0m\n",
      "  \u001b[31m   \u001b[0m Ignoring numpy: markers 'python_version == \"3.6\" and platform_system != \"AIX\"' don't match your environment\n",
      "  \u001b[31m   \u001b[0m Ignoring numpy: markers 'python_version == \"3.7\" and platform_system != \"AIX\"' don't match your environment\n",
      "  \u001b[31m   \u001b[0m Ignoring numpy: markers 'python_version == \"3.6\" and platform_system == \"AIX\"' don't match your environment\n",
      "  \u001b[31m   \u001b[0m Ignoring numpy: markers 'python_version == \"3.7\" and platform_system == \"AIX\"' don't match your environment\n",
      "  \u001b[31m   \u001b[0m Ignoring numpy: markers 'python_version >= \"3.8\" and platform_system == \"AIX\"' don't match your environment\n",
      "  \u001b[31m   \u001b[0m Collecting setuptools\n",
      "  \u001b[31m   \u001b[0m   Using cached setuptools-75.6.0-py3-none-any.whl.metadata (6.7 kB)\n",
      "  \u001b[31m   \u001b[0m Collecting wheel\n",
      "  \u001b[31m   \u001b[0m   Using cached wheel-0.45.1-py3-none-any.whl.metadata (2.3 kB)\n",
      "  \u001b[31m   \u001b[0m Collecting Cython<3,>=0.29.16\n",
      "  \u001b[31m   \u001b[0m   Using cached Cython-0.29.37-cp310-cp310-manylinux_2_17_x86_64.manylinux2014_x86_64.manylinux_2_24_x86_64.whl.metadata (3.1 kB)\n",
      "  \u001b[31m   \u001b[0m Collecting numpy==1.17.3\n",
      "  \u001b[31m   \u001b[0m   Using cached numpy-1.17.3.zip (6.4 MB)\n",
      "  \u001b[31m   \u001b[0m   Installing build dependencies: started\n",
      "  \u001b[31m   \u001b[0m   Installing build dependencies: finished with status 'done'\n",
      "  \u001b[31m   \u001b[0m   Getting requirements to build wheel: started\n",
      "  \u001b[31m   \u001b[0m   Getting requirements to build wheel: finished with status 'done'\n",
      "  \u001b[31m   \u001b[0m   Preparing metadata (pyproject.toml): started\n",
      "  \u001b[31m   \u001b[0m   Preparing metadata (pyproject.toml): finished with status 'error'\n",
      "  \u001b[31m   \u001b[0m   \u001b[1;31merror\u001b[0m: \u001b[1msubprocess-exited-with-error\u001b[0m\n",
      "  \u001b[31m   \u001b[0m \n",
      "  \u001b[31m   \u001b[0m   \u001b[31m×\u001b[0m \u001b[32mPreparing metadata \u001b[0m\u001b[1;32m(\u001b[0m\u001b[32mpyproject.toml\u001b[0m\u001b[1;32m)\u001b[0m did not run successfully.\n",
      "  \u001b[31m   \u001b[0m   \u001b[31m│\u001b[0m exit code: \u001b[1;36m1\u001b[0m\n",
      "  \u001b[31m   \u001b[0m   \u001b[31m╰─>\u001b[0m \u001b[31m[24 lines of output]\u001b[0m\n",
      "  \u001b[31m   \u001b[0m   \u001b[31m   \u001b[0m Running from numpy source directory.\n",
      "  \u001b[31m   \u001b[0m   \u001b[31m   \u001b[0m <string>:418: UserWarning: Unrecognized setuptools command, proceeding with generating Cython sources and expanding templates\n",
      "  \u001b[31m   \u001b[0m   \u001b[31m   \u001b[0m Traceback (most recent call last):\n",
      "  \u001b[31m   \u001b[0m   \u001b[31m   \u001b[0m   File \"/home/user/BioinformaticTutorials/.venv/lib/python3.10/site-packages/pip/_vendor/pyproject_hooks/_in_process/_in_process.py\", line 353, in <module>\n",
      "  \u001b[31m   \u001b[0m   \u001b[31m   \u001b[0m     main()\n",
      "  \u001b[31m   \u001b[0m   \u001b[31m   \u001b[0m   File \"/home/user/BioinformaticTutorials/.venv/lib/python3.10/site-packages/pip/_vendor/pyproject_hooks/_in_process/_in_process.py\", line 335, in main\n",
      "  \u001b[31m   \u001b[0m   \u001b[31m   \u001b[0m     json_out['return_val'] = hook(**hook_input['kwargs'])\n",
      "  \u001b[31m   \u001b[0m   \u001b[31m   \u001b[0m   File \"/home/user/BioinformaticTutorials/.venv/lib/python3.10/site-packages/pip/_vendor/pyproject_hooks/_in_process/_in_process.py\", line 149, in prepare_metadata_for_build_wheel\n",
      "  \u001b[31m   \u001b[0m   \u001b[31m   \u001b[0m     return hook(metadata_directory, config_settings)\n",
      "  \u001b[31m   \u001b[0m   \u001b[31m   \u001b[0m   File \"/tmp/pip-build-env-0gohsjmq/overlay/lib/python3.10/site-packages/setuptools/build_meta.py\", line 377, in prepare_metadata_for_build_wheel\n",
      "  \u001b[31m   \u001b[0m   \u001b[31m   \u001b[0m     self.run_setup()\n",
      "  \u001b[31m   \u001b[0m   \u001b[31m   \u001b[0m   File \"/tmp/pip-build-env-0gohsjmq/overlay/lib/python3.10/site-packages/setuptools/build_meta.py\", line 522, in run_setup\n",
      "  \u001b[31m   \u001b[0m   \u001b[31m   \u001b[0m     super().run_setup(setup_script=setup_script)\n",
      "  \u001b[31m   \u001b[0m   \u001b[31m   \u001b[0m   File \"/tmp/pip-build-env-0gohsjmq/overlay/lib/python3.10/site-packages/setuptools/build_meta.py\", line 320, in run_setup\n",
      "  \u001b[31m   \u001b[0m   \u001b[31m   \u001b[0m     exec(code, locals())\n",
      "  \u001b[31m   \u001b[0m   \u001b[31m   \u001b[0m   File \"<string>\", line 443, in <module>\n",
      "  \u001b[31m   \u001b[0m   \u001b[31m   \u001b[0m   File \"<string>\", line 422, in setup_package\n",
      "  \u001b[31m   \u001b[0m   \u001b[31m   \u001b[0m   File \"/tmp/pip-install-bt53dgok/numpy_6b06e478f84b4adfb7e7dbe778b60bd7/numpy/distutils/core.py\", line 26, in <module>\n",
      "  \u001b[31m   \u001b[0m   \u001b[31m   \u001b[0m     from numpy.distutils.command import config, config_compiler, \\\n",
      "  \u001b[31m   \u001b[0m   \u001b[31m   \u001b[0m   File \"/tmp/pip-install-bt53dgok/numpy_6b06e478f84b4adfb7e7dbe778b60bd7/numpy/distutils/command/config.py\", line 20, in <module>\n",
      "  \u001b[31m   \u001b[0m   \u001b[31m   \u001b[0m     from numpy.distutils.mingw32ccompiler import generate_manifest\n",
      "  \u001b[31m   \u001b[0m   \u001b[31m   \u001b[0m   File \"/tmp/pip-install-bt53dgok/numpy_6b06e478f84b4adfb7e7dbe778b60bd7/numpy/distutils/mingw32ccompiler.py\", line 34, in <module>\n",
      "  \u001b[31m   \u001b[0m   \u001b[31m   \u001b[0m     from distutils.msvccompiler import get_build_version as get_build_msvc_version\n",
      "  \u001b[31m   \u001b[0m   \u001b[31m   \u001b[0m ModuleNotFoundError: No module named 'distutils.msvccompiler'\n",
      "  \u001b[31m   \u001b[0m   \u001b[31m   \u001b[0m \u001b[31m[end of output]\u001b[0m\n",
      "  \u001b[31m   \u001b[0m \n",
      "  \u001b[31m   \u001b[0m   \u001b[1;35mnote\u001b[0m: This error originates from a subprocess, and is likely not a problem with pip.\n",
      "  \u001b[31m   \u001b[0m \u001b[1;31merror\u001b[0m: \u001b[1mmetadata-generation-failed\u001b[0m\n",
      "  \u001b[31m   \u001b[0m \n",
      "  \u001b[31m   \u001b[0m \u001b[31m×\u001b[0m Encountered error while generating package metadata.\n",
      "  \u001b[31m   \u001b[0m \u001b[31m╰─>\u001b[0m See above for output.\n",
      "  \u001b[31m   \u001b[0m \n",
      "  \u001b[31m   \u001b[0m \u001b[1;35mnote\u001b[0m: This is an issue with the package mentioned above, not pip.\n",
      "  \u001b[31m   \u001b[0m \u001b[1;36mhint\u001b[0m: See above for details.\n",
      "  \u001b[31m   \u001b[0m \u001b[31m[end of output]\u001b[0m\n",
      "  \n",
      "  \u001b[1;35mnote\u001b[0m: This error originates from a subprocess, and is likely not a problem with pip.\n",
      "\u001b[?25h\u001b[1;31merror\u001b[0m: \u001b[1msubprocess-exited-with-error\u001b[0m\n",
      "\n",
      "\u001b[31m×\u001b[0m \u001b[32mpip subprocess to install build dependencies\u001b[0m did not run successfully.\n",
      "\u001b[31m│\u001b[0m exit code: \u001b[1;36m1\u001b[0m\n",
      "\u001b[31m╰─>\u001b[0m See above for output.\n",
      "\n",
      "\u001b[1;35mnote\u001b[0m: This error originates from a subprocess, and is likely not a problem with pip.\n",
      "Requirement already satisfied: matplotlib==3.3.1 in /home/user/BioinformaticTutorials/.venv/lib/python3.10/site-packages (3.3.1)\n",
      "Requirement already satisfied: certifi>=2020.06.20 in /home/user/BioinformaticTutorials/.venv/lib/python3.10/site-packages (from matplotlib==3.3.1) (2024.8.30)\n",
      "Requirement already satisfied: cycler>=0.10 in /home/user/BioinformaticTutorials/.venv/lib/python3.10/site-packages (from matplotlib==3.3.1) (0.12.1)\n",
      "Requirement already satisfied: kiwisolver>=1.0.1 in /home/user/BioinformaticTutorials/.venv/lib/python3.10/site-packages (from matplotlib==3.3.1) (1.4.7)\n",
      "Requirement already satisfied: numpy>=1.15 in /home/user/BioinformaticTutorials/.venv/lib/python3.10/site-packages (from matplotlib==3.3.1) (2.1.3)\n",
      "Requirement already satisfied: pillow>=6.2.0 in /home/user/BioinformaticTutorials/.venv/lib/python3.10/site-packages (from matplotlib==3.3.1) (11.0.0)\n",
      "Requirement already satisfied: pyparsing!=2.0.4,!=2.1.2,!=2.1.6,>=2.0.3 in /home/user/BioinformaticTutorials/.venv/lib/python3.10/site-packages (from matplotlib==3.3.1) (3.2.0)\n",
      "Requirement already satisfied: python-dateutil>=2.1 in /home/user/BioinformaticTutorials/.venv/lib/python3.10/site-packages (from matplotlib==3.3.1) (2.9.0.post0)\n",
      "Requirement already satisfied: six>=1.5 in /home/user/BioinformaticTutorials/.venv/lib/python3.10/site-packages (from python-dateutil>=2.1->matplotlib==3.3.1) (1.16.0)\n"
     ]
    }
   ],
   "source": [
    "!pip install pandas==1.1.2\n",
    "!pip install matplotlib==3.3.1\n"
   ]
  },
  {
   "cell_type": "code",
   "execution_count": 7,
   "metadata": {
    "id": "aS-QscQuXxct"
   },
   "outputs": [],
   "source": [
    "import pandas as pd\n",
    "import matplotlib.pyplot as plt"
   ]
  },
  {
   "cell_type": "markdown",
   "metadata": {
    "id": "AQqOHcF5Xxc6"
   },
   "source": [
    "We will then open the genome annotation file (gff file) of <i> Schistosoma mansoni </i> to begin our activity. For this, we can open the file from a web source or import this file from our own computer or even from Google drive.\n",
    "\n",
    "<br>\n",
    "\n",
    "Let's use the file that we separated in our repository on GitHub (a web source):\n",
    "\n",
    "Note: Remember to use the \"raw\" link for the desired file."
   ]
  },
  {
   "cell_type": "code",
   "execution_count": 8,
   "metadata": {
    "colab": {
     "base_uri": "https://localhost:8080/",
     "height": 137
    },
    "id": "64NAsmWzXxc_",
    "outputId": "183ef270-c30d-4d5c-a011-601bb496fb95"
   },
   "outputs": [
    {
     "data": {
      "text/html": [
       "<div>\n",
       "<style scoped>\n",
       "    .dataframe tbody tr th:only-of-type {\n",
       "        vertical-align: middle;\n",
       "    }\n",
       "\n",
       "    .dataframe tbody tr th {\n",
       "        vertical-align: top;\n",
       "    }\n",
       "\n",
       "    .dataframe thead th {\n",
       "        text-align: right;\n",
       "    }\n",
       "</style>\n",
       "<table border=\"1\" class=\"dataframe\">\n",
       "  <thead>\n",
       "    <tr style=\"text-align: right;\">\n",
       "      <th></th>\n",
       "      <th>SeqID</th>\n",
       "      <th>Source</th>\n",
       "      <th>Type</th>\n",
       "      <th>Start</th>\n",
       "      <th>End</th>\n",
       "      <th>Score</th>\n",
       "      <th>Strand</th>\n",
       "      <th>Phase</th>\n",
       "      <th>Attributes</th>\n",
       "    </tr>\n",
       "  </thead>\n",
       "  <tbody>\n",
       "    <tr>\n",
       "      <th>0</th>\n",
       "      <td>SM_V7_1</td>\n",
       "      <td>WormBase_imported</td>\n",
       "      <td>gene</td>\n",
       "      <td>88327</td>\n",
       "      <td>88683</td>\n",
       "      <td>.</td>\n",
       "      <td>-</td>\n",
       "      <td>.</td>\n",
       "      <td>ID=gene:Smp_329140;Name=Smp_329140;biotype=pro...</td>\n",
       "    </tr>\n",
       "    <tr>\n",
       "      <th>1</th>\n",
       "      <td>SM_V7_1</td>\n",
       "      <td>WormBase_imported</td>\n",
       "      <td>mRNA</td>\n",
       "      <td>88327</td>\n",
       "      <td>88683</td>\n",
       "      <td>.</td>\n",
       "      <td>-</td>\n",
       "      <td>.</td>\n",
       "      <td>ID=transcript:Smp_329140.1;Parent=gene:Smp_329...</td>\n",
       "    </tr>\n",
       "    <tr>\n",
       "      <th>2</th>\n",
       "      <td>SM_V7_1</td>\n",
       "      <td>WormBase_imported</td>\n",
       "      <td>exon</td>\n",
       "      <td>88327</td>\n",
       "      <td>88683</td>\n",
       "      <td>.</td>\n",
       "      <td>-</td>\n",
       "      <td>.</td>\n",
       "      <td>ID=exon:Smp_329140.1.1;Parent=transcript:Smp_3...</td>\n",
       "    </tr>\n",
       "  </tbody>\n",
       "</table>\n",
       "</div>"
      ],
      "text/plain": [
       "     SeqID             Source  Type  Start    End Score Strand Phase  \\\n",
       "0  SM_V7_1  WormBase_imported  gene  88327  88683     .      -     .   \n",
       "1  SM_V7_1  WormBase_imported  mRNA  88327  88683     .      -     .   \n",
       "2  SM_V7_1  WormBase_imported  exon  88327  88683     .      -     .   \n",
       "\n",
       "                                          Attributes  \n",
       "0  ID=gene:Smp_329140;Name=Smp_329140;biotype=pro...  \n",
       "1  ID=transcript:Smp_329140.1;Parent=gene:Smp_329...  \n",
       "2  ID=exon:Smp_329140.1.1;Parent=transcript:Smp_3...  "
      ]
     },
     "execution_count": 8,
     "metadata": {},
     "output_type": "execute_result"
    }
   ],
   "source": [
    "annotation_df = pd.read_table('https://raw.githubusercontent.com/SantosRAC/iii_workshoppythondadosbiologicos/master/DadosAtividadesPraticas/LuizaZuvanov/schistosoma_mansoni.PRJEA36577.WBPS11.annotations.gff3',\n",
    "                              names = ['SeqID', 'Source', 'Type', 'Start', 'End', 'Score', 'Strand', 'Phase', 'Attributes'],\n",
    "                              comment='#')\n",
    "\n",
    "annotation_df.head(3)"
   ]
  },
  {
   "cell_type": "markdown",
   "metadata": {
    "id": "MFQ-al_8zvRO"
   },
   "source": [
    "Notice that we use the **read_table ()** function, which assumes that our file has columns separated by **tab**. Do you think we could have used another function of Pandas? If so, how would we do it?\n"
   ]
  },
  {
   "cell_type": "markdown",
   "metadata": {
    "id": "wkMfpFsOXxdj"
   },
   "source": [
    "In the gff file, each line contains information from a certain annotation (if necessary, review it in the introductory part of this notebook). Among the **biological types** noted, we have exons. So let's start our activity! For this, we will select all the lines that have **exon** in the column that says the type of the annotation, column **Type**."
   ]
  },
  {
   "cell_type": "code",
   "execution_count": 9,
   "metadata": {
    "colab": {
     "base_uri": "https://localhost:8080/",
     "height": 137
    },
    "id": "Y4OIsPlDXxdl",
    "outputId": "3d5bddf9-f937-4ebb-e241-f88bf570a7fa"
   },
   "outputs": [
    {
     "data": {
      "text/html": [
       "<div>\n",
       "<style scoped>\n",
       "    .dataframe tbody tr th:only-of-type {\n",
       "        vertical-align: middle;\n",
       "    }\n",
       "\n",
       "    .dataframe tbody tr th {\n",
       "        vertical-align: top;\n",
       "    }\n",
       "\n",
       "    .dataframe thead th {\n",
       "        text-align: right;\n",
       "    }\n",
       "</style>\n",
       "<table border=\"1\" class=\"dataframe\">\n",
       "  <thead>\n",
       "    <tr style=\"text-align: right;\">\n",
       "      <th></th>\n",
       "      <th>SeqID</th>\n",
       "      <th>Source</th>\n",
       "      <th>Type</th>\n",
       "      <th>Start</th>\n",
       "      <th>End</th>\n",
       "      <th>Score</th>\n",
       "      <th>Strand</th>\n",
       "      <th>Phase</th>\n",
       "      <th>Attributes</th>\n",
       "    </tr>\n",
       "  </thead>\n",
       "  <tbody>\n",
       "    <tr>\n",
       "      <th>2</th>\n",
       "      <td>SM_V7_1</td>\n",
       "      <td>WormBase_imported</td>\n",
       "      <td>exon</td>\n",
       "      <td>88327</td>\n",
       "      <td>88683</td>\n",
       "      <td>.</td>\n",
       "      <td>-</td>\n",
       "      <td>.</td>\n",
       "      <td>ID=exon:Smp_329140.1.1;Parent=transcript:Smp_3...</td>\n",
       "    </tr>\n",
       "    <tr>\n",
       "      <th>9</th>\n",
       "      <td>SM_V7_1</td>\n",
       "      <td>WormBase_imported</td>\n",
       "      <td>exon</td>\n",
       "      <td>151075</td>\n",
       "      <td>151162</td>\n",
       "      <td>.</td>\n",
       "      <td>-</td>\n",
       "      <td>.</td>\n",
       "      <td>ID=exon:Smp_315690.1.1;Parent=transcript:Smp_3...</td>\n",
       "    </tr>\n",
       "    <tr>\n",
       "      <th>10</th>\n",
       "      <td>SM_V7_1</td>\n",
       "      <td>WormBase_imported</td>\n",
       "      <td>exon</td>\n",
       "      <td>145395</td>\n",
       "      <td>145678</td>\n",
       "      <td>.</td>\n",
       "      <td>-</td>\n",
       "      <td>.</td>\n",
       "      <td>ID=exon:Smp_315690.1.2;Parent=transcript:Smp_3...</td>\n",
       "    </tr>\n",
       "  </tbody>\n",
       "</table>\n",
       "</div>"
      ],
      "text/plain": [
       "      SeqID             Source  Type   Start     End Score Strand Phase  \\\n",
       "2   SM_V7_1  WormBase_imported  exon   88327   88683     .      -     .   \n",
       "9   SM_V7_1  WormBase_imported  exon  151075  151162     .      -     .   \n",
       "10  SM_V7_1  WormBase_imported  exon  145395  145678     .      -     .   \n",
       "\n",
       "                                           Attributes  \n",
       "2   ID=exon:Smp_329140.1.1;Parent=transcript:Smp_3...  \n",
       "9   ID=exon:Smp_315690.1.1;Parent=transcript:Smp_3...  \n",
       "10  ID=exon:Smp_315690.1.2;Parent=transcript:Smp_3...  "
      ]
     },
     "execution_count": 9,
     "metadata": {},
     "output_type": "execute_result"
    }
   ],
   "source": [
    "exons_df = annotation_df[annotation_df['Type']=='exon']\n",
    "exons_df.head(3)"
   ]
  },
  {
   "cell_type": "markdown",
   "metadata": {
    "id": "J8difT8j2N_d"
   },
   "source": [
    "Command writing is a creative process!\n",
    "For example, note that we could have selected exons in different ways:\n",
    "\n",
    "\n",
    "```\n",
    "exons_df = annotation_df[annotation_df.Type == 'exon']\n",
    "exons_df = annotation_df.loc(annotation_df['Type'] == 'exon')\n",
    "exons_df = annotation_df.query('Type' == 'exon')\n",
    "\n",
    "```\n",
    "\n"
   ]
  },
  {
   "cell_type": "markdown",
   "metadata": {
    "id": "B4FGhRRcXxd5"
   },
   "source": [
    "Notice that when we created the **dataframe** of the exons, the information of the lines (indexes = index) where the exons were in the original dataframe were stored. But, we can renumber these lines:"
   ]
  },
  {
   "cell_type": "code",
   "execution_count": 10,
   "metadata": {
    "colab": {
     "base_uri": "https://localhost:8080/",
     "height": 137
    },
    "id": "XdPFurzJXxeA",
    "outputId": "d9b440f0-8bae-42ff-a32a-bcded606941d"
   },
   "outputs": [
    {
     "data": {
      "text/html": [
       "<div>\n",
       "<style scoped>\n",
       "    .dataframe tbody tr th:only-of-type {\n",
       "        vertical-align: middle;\n",
       "    }\n",
       "\n",
       "    .dataframe tbody tr th {\n",
       "        vertical-align: top;\n",
       "    }\n",
       "\n",
       "    .dataframe thead th {\n",
       "        text-align: right;\n",
       "    }\n",
       "</style>\n",
       "<table border=\"1\" class=\"dataframe\">\n",
       "  <thead>\n",
       "    <tr style=\"text-align: right;\">\n",
       "      <th></th>\n",
       "      <th>SeqID</th>\n",
       "      <th>Source</th>\n",
       "      <th>Type</th>\n",
       "      <th>Start</th>\n",
       "      <th>End</th>\n",
       "      <th>Score</th>\n",
       "      <th>Strand</th>\n",
       "      <th>Phase</th>\n",
       "      <th>Attributes</th>\n",
       "    </tr>\n",
       "  </thead>\n",
       "  <tbody>\n",
       "    <tr>\n",
       "      <th>0</th>\n",
       "      <td>SM_V7_1</td>\n",
       "      <td>WormBase_imported</td>\n",
       "      <td>exon</td>\n",
       "      <td>88327</td>\n",
       "      <td>88683</td>\n",
       "      <td>.</td>\n",
       "      <td>-</td>\n",
       "      <td>.</td>\n",
       "      <td>ID=exon:Smp_329140.1.1;Parent=transcript:Smp_3...</td>\n",
       "    </tr>\n",
       "    <tr>\n",
       "      <th>1</th>\n",
       "      <td>SM_V7_1</td>\n",
       "      <td>WormBase_imported</td>\n",
       "      <td>exon</td>\n",
       "      <td>151075</td>\n",
       "      <td>151162</td>\n",
       "      <td>.</td>\n",
       "      <td>-</td>\n",
       "      <td>.</td>\n",
       "      <td>ID=exon:Smp_315690.1.1;Parent=transcript:Smp_3...</td>\n",
       "    </tr>\n",
       "    <tr>\n",
       "      <th>2</th>\n",
       "      <td>SM_V7_1</td>\n",
       "      <td>WormBase_imported</td>\n",
       "      <td>exon</td>\n",
       "      <td>145395</td>\n",
       "      <td>145678</td>\n",
       "      <td>.</td>\n",
       "      <td>-</td>\n",
       "      <td>.</td>\n",
       "      <td>ID=exon:Smp_315690.1.2;Parent=transcript:Smp_3...</td>\n",
       "    </tr>\n",
       "  </tbody>\n",
       "</table>\n",
       "</div>"
      ],
      "text/plain": [
       "     SeqID             Source  Type   Start     End Score Strand Phase  \\\n",
       "0  SM_V7_1  WormBase_imported  exon   88327   88683     .      -     .   \n",
       "1  SM_V7_1  WormBase_imported  exon  151075  151162     .      -     .   \n",
       "2  SM_V7_1  WormBase_imported  exon  145395  145678     .      -     .   \n",
       "\n",
       "                                          Attributes  \n",
       "0  ID=exon:Smp_329140.1.1;Parent=transcript:Smp_3...  \n",
       "1  ID=exon:Smp_315690.1.1;Parent=transcript:Smp_3...  \n",
       "2  ID=exon:Smp_315690.1.2;Parent=transcript:Smp_3...  "
      ]
     },
     "execution_count": 10,
     "metadata": {},
     "output_type": "execute_result"
    }
   ],
   "source": [
    "exons_df.reset_index(drop=True).head(3)"
   ]
  },
  {
   "cell_type": "markdown",
   "metadata": {
    "id": "h1624dEr4En4"
   },
   "source": [
    "Cool, let's take a look at the first 10 lines of this exon dataframe:"
   ]
  },
  {
   "cell_type": "code",
   "execution_count": 11,
   "metadata": {
    "colab": {
     "base_uri": "https://localhost:8080/",
     "height": 345
    },
    "id": "doww7RFsXxeW",
    "outputId": "53214120-534d-4766-dab1-2beb0fc52121"
   },
   "outputs": [
    {
     "data": {
      "text/html": [
       "<div>\n",
       "<style scoped>\n",
       "    .dataframe tbody tr th:only-of-type {\n",
       "        vertical-align: middle;\n",
       "    }\n",
       "\n",
       "    .dataframe tbody tr th {\n",
       "        vertical-align: top;\n",
       "    }\n",
       "\n",
       "    .dataframe thead th {\n",
       "        text-align: right;\n",
       "    }\n",
       "</style>\n",
       "<table border=\"1\" class=\"dataframe\">\n",
       "  <thead>\n",
       "    <tr style=\"text-align: right;\">\n",
       "      <th></th>\n",
       "      <th>SeqID</th>\n",
       "      <th>Source</th>\n",
       "      <th>Type</th>\n",
       "      <th>Start</th>\n",
       "      <th>End</th>\n",
       "      <th>Score</th>\n",
       "      <th>Strand</th>\n",
       "      <th>Phase</th>\n",
       "      <th>Attributes</th>\n",
       "    </tr>\n",
       "  </thead>\n",
       "  <tbody>\n",
       "    <tr>\n",
       "      <th>2</th>\n",
       "      <td>SM_V7_1</td>\n",
       "      <td>WormBase_imported</td>\n",
       "      <td>exon</td>\n",
       "      <td>88327</td>\n",
       "      <td>88683</td>\n",
       "      <td>.</td>\n",
       "      <td>-</td>\n",
       "      <td>.</td>\n",
       "      <td>ID=exon:Smp_329140.1.1;Parent=transcript:Smp_3...</td>\n",
       "    </tr>\n",
       "    <tr>\n",
       "      <th>9</th>\n",
       "      <td>SM_V7_1</td>\n",
       "      <td>WormBase_imported</td>\n",
       "      <td>exon</td>\n",
       "      <td>151075</td>\n",
       "      <td>151162</td>\n",
       "      <td>.</td>\n",
       "      <td>-</td>\n",
       "      <td>.</td>\n",
       "      <td>ID=exon:Smp_315690.1.1;Parent=transcript:Smp_3...</td>\n",
       "    </tr>\n",
       "    <tr>\n",
       "      <th>10</th>\n",
       "      <td>SM_V7_1</td>\n",
       "      <td>WormBase_imported</td>\n",
       "      <td>exon</td>\n",
       "      <td>145395</td>\n",
       "      <td>145678</td>\n",
       "      <td>.</td>\n",
       "      <td>-</td>\n",
       "      <td>.</td>\n",
       "      <td>ID=exon:Smp_315690.1.2;Parent=transcript:Smp_3...</td>\n",
       "    </tr>\n",
       "    <tr>\n",
       "      <th>11</th>\n",
       "      <td>SM_V7_1</td>\n",
       "      <td>WormBase_imported</td>\n",
       "      <td>exon</td>\n",
       "      <td>142981</td>\n",
       "      <td>143205</td>\n",
       "      <td>.</td>\n",
       "      <td>-</td>\n",
       "      <td>.</td>\n",
       "      <td>ID=exon:Smp_315690.1.3;Parent=transcript:Smp_3...</td>\n",
       "    </tr>\n",
       "    <tr>\n",
       "      <th>12</th>\n",
       "      <td>SM_V7_1</td>\n",
       "      <td>WormBase_imported</td>\n",
       "      <td>exon</td>\n",
       "      <td>103403</td>\n",
       "      <td>103770</td>\n",
       "      <td>.</td>\n",
       "      <td>-</td>\n",
       "      <td>.</td>\n",
       "      <td>ID=exon:Smp_315690.1.4;Parent=transcript:Smp_3...</td>\n",
       "    </tr>\n",
       "    <tr>\n",
       "      <th>13</th>\n",
       "      <td>SM_V7_1</td>\n",
       "      <td>WormBase_imported</td>\n",
       "      <td>exon</td>\n",
       "      <td>151075</td>\n",
       "      <td>151162</td>\n",
       "      <td>.</td>\n",
       "      <td>-</td>\n",
       "      <td>.</td>\n",
       "      <td>ID=exon:Smp_315690.2.1;Parent=transcript:Smp_3...</td>\n",
       "    </tr>\n",
       "    <tr>\n",
       "      <th>14</th>\n",
       "      <td>SM_V7_1</td>\n",
       "      <td>WormBase_imported</td>\n",
       "      <td>exon</td>\n",
       "      <td>145395</td>\n",
       "      <td>145678</td>\n",
       "      <td>.</td>\n",
       "      <td>-</td>\n",
       "      <td>.</td>\n",
       "      <td>ID=exon:Smp_315690.2.2;Parent=transcript:Smp_3...</td>\n",
       "    </tr>\n",
       "    <tr>\n",
       "      <th>15</th>\n",
       "      <td>SM_V7_1</td>\n",
       "      <td>WormBase_imported</td>\n",
       "      <td>exon</td>\n",
       "      <td>142981</td>\n",
       "      <td>143205</td>\n",
       "      <td>.</td>\n",
       "      <td>-</td>\n",
       "      <td>.</td>\n",
       "      <td>ID=exon:Smp_315690.2.3;Parent=transcript:Smp_3...</td>\n",
       "    </tr>\n",
       "    <tr>\n",
       "      <th>16</th>\n",
       "      <td>SM_V7_1</td>\n",
       "      <td>WormBase_imported</td>\n",
       "      <td>exon</td>\n",
       "      <td>140582</td>\n",
       "      <td>140849</td>\n",
       "      <td>.</td>\n",
       "      <td>-</td>\n",
       "      <td>.</td>\n",
       "      <td>ID=exon:Smp_315690.2.4;Parent=transcript:Smp_3...</td>\n",
       "    </tr>\n",
       "    <tr>\n",
       "      <th>17</th>\n",
       "      <td>SM_V7_1</td>\n",
       "      <td>WormBase_imported</td>\n",
       "      <td>exon</td>\n",
       "      <td>106876</td>\n",
       "      <td>107159</td>\n",
       "      <td>.</td>\n",
       "      <td>-</td>\n",
       "      <td>.</td>\n",
       "      <td>ID=exon:Smp_315690.2.5;Parent=transcript:Smp_3...</td>\n",
       "    </tr>\n",
       "  </tbody>\n",
       "</table>\n",
       "</div>"
      ],
      "text/plain": [
       "      SeqID             Source  Type   Start     End Score Strand Phase  \\\n",
       "2   SM_V7_1  WormBase_imported  exon   88327   88683     .      -     .   \n",
       "9   SM_V7_1  WormBase_imported  exon  151075  151162     .      -     .   \n",
       "10  SM_V7_1  WormBase_imported  exon  145395  145678     .      -     .   \n",
       "11  SM_V7_1  WormBase_imported  exon  142981  143205     .      -     .   \n",
       "12  SM_V7_1  WormBase_imported  exon  103403  103770     .      -     .   \n",
       "13  SM_V7_1  WormBase_imported  exon  151075  151162     .      -     .   \n",
       "14  SM_V7_1  WormBase_imported  exon  145395  145678     .      -     .   \n",
       "15  SM_V7_1  WormBase_imported  exon  142981  143205     .      -     .   \n",
       "16  SM_V7_1  WormBase_imported  exon  140582  140849     .      -     .   \n",
       "17  SM_V7_1  WormBase_imported  exon  106876  107159     .      -     .   \n",
       "\n",
       "                                           Attributes  \n",
       "2   ID=exon:Smp_329140.1.1;Parent=transcript:Smp_3...  \n",
       "9   ID=exon:Smp_315690.1.1;Parent=transcript:Smp_3...  \n",
       "10  ID=exon:Smp_315690.1.2;Parent=transcript:Smp_3...  \n",
       "11  ID=exon:Smp_315690.1.3;Parent=transcript:Smp_3...  \n",
       "12  ID=exon:Smp_315690.1.4;Parent=transcript:Smp_3...  \n",
       "13  ID=exon:Smp_315690.2.1;Parent=transcript:Smp_3...  \n",
       "14  ID=exon:Smp_315690.2.2;Parent=transcript:Smp_3...  \n",
       "15  ID=exon:Smp_315690.2.3;Parent=transcript:Smp_3...  \n",
       "16  ID=exon:Smp_315690.2.4;Parent=transcript:Smp_3...  \n",
       "17  ID=exon:Smp_315690.2.5;Parent=transcript:Smp_3...  "
      ]
     },
     "execution_count": 11,
     "metadata": {},
     "output_type": "execute_result"
    }
   ],
   "source": [
    "exons_df.head(10)"
   ]
  },
  {
   "cell_type": "markdown",
   "metadata": {
    "id": "8MH6h6jiXxex"
   },
   "source": [
    "Oops! The renumbering of the rows has not been saved! To save the change, we must update the variable, don't forget."
   ]
  },
  {
   "cell_type": "code",
   "execution_count": 12,
   "metadata": {
    "colab": {
     "base_uri": "https://localhost:8080/",
     "height": 345
    },
    "id": "2igBSCFQXxe0",
    "outputId": "2b66b134-6c3e-4353-f557-7bb60938e842"
   },
   "outputs": [
    {
     "data": {
      "text/html": [
       "<div>\n",
       "<style scoped>\n",
       "    .dataframe tbody tr th:only-of-type {\n",
       "        vertical-align: middle;\n",
       "    }\n",
       "\n",
       "    .dataframe tbody tr th {\n",
       "        vertical-align: top;\n",
       "    }\n",
       "\n",
       "    .dataframe thead th {\n",
       "        text-align: right;\n",
       "    }\n",
       "</style>\n",
       "<table border=\"1\" class=\"dataframe\">\n",
       "  <thead>\n",
       "    <tr style=\"text-align: right;\">\n",
       "      <th></th>\n",
       "      <th>SeqID</th>\n",
       "      <th>Source</th>\n",
       "      <th>Type</th>\n",
       "      <th>Start</th>\n",
       "      <th>End</th>\n",
       "      <th>Score</th>\n",
       "      <th>Strand</th>\n",
       "      <th>Phase</th>\n",
       "      <th>Attributes</th>\n",
       "    </tr>\n",
       "  </thead>\n",
       "  <tbody>\n",
       "    <tr>\n",
       "      <th>0</th>\n",
       "      <td>SM_V7_1</td>\n",
       "      <td>WormBase_imported</td>\n",
       "      <td>exon</td>\n",
       "      <td>88327</td>\n",
       "      <td>88683</td>\n",
       "      <td>.</td>\n",
       "      <td>-</td>\n",
       "      <td>.</td>\n",
       "      <td>ID=exon:Smp_329140.1.1;Parent=transcript:Smp_3...</td>\n",
       "    </tr>\n",
       "    <tr>\n",
       "      <th>1</th>\n",
       "      <td>SM_V7_1</td>\n",
       "      <td>WormBase_imported</td>\n",
       "      <td>exon</td>\n",
       "      <td>151075</td>\n",
       "      <td>151162</td>\n",
       "      <td>.</td>\n",
       "      <td>-</td>\n",
       "      <td>.</td>\n",
       "      <td>ID=exon:Smp_315690.1.1;Parent=transcript:Smp_3...</td>\n",
       "    </tr>\n",
       "    <tr>\n",
       "      <th>2</th>\n",
       "      <td>SM_V7_1</td>\n",
       "      <td>WormBase_imported</td>\n",
       "      <td>exon</td>\n",
       "      <td>145395</td>\n",
       "      <td>145678</td>\n",
       "      <td>.</td>\n",
       "      <td>-</td>\n",
       "      <td>.</td>\n",
       "      <td>ID=exon:Smp_315690.1.2;Parent=transcript:Smp_3...</td>\n",
       "    </tr>\n",
       "    <tr>\n",
       "      <th>3</th>\n",
       "      <td>SM_V7_1</td>\n",
       "      <td>WormBase_imported</td>\n",
       "      <td>exon</td>\n",
       "      <td>142981</td>\n",
       "      <td>143205</td>\n",
       "      <td>.</td>\n",
       "      <td>-</td>\n",
       "      <td>.</td>\n",
       "      <td>ID=exon:Smp_315690.1.3;Parent=transcript:Smp_3...</td>\n",
       "    </tr>\n",
       "    <tr>\n",
       "      <th>4</th>\n",
       "      <td>SM_V7_1</td>\n",
       "      <td>WormBase_imported</td>\n",
       "      <td>exon</td>\n",
       "      <td>103403</td>\n",
       "      <td>103770</td>\n",
       "      <td>.</td>\n",
       "      <td>-</td>\n",
       "      <td>.</td>\n",
       "      <td>ID=exon:Smp_315690.1.4;Parent=transcript:Smp_3...</td>\n",
       "    </tr>\n",
       "    <tr>\n",
       "      <th>5</th>\n",
       "      <td>SM_V7_1</td>\n",
       "      <td>WormBase_imported</td>\n",
       "      <td>exon</td>\n",
       "      <td>151075</td>\n",
       "      <td>151162</td>\n",
       "      <td>.</td>\n",
       "      <td>-</td>\n",
       "      <td>.</td>\n",
       "      <td>ID=exon:Smp_315690.2.1;Parent=transcript:Smp_3...</td>\n",
       "    </tr>\n",
       "    <tr>\n",
       "      <th>6</th>\n",
       "      <td>SM_V7_1</td>\n",
       "      <td>WormBase_imported</td>\n",
       "      <td>exon</td>\n",
       "      <td>145395</td>\n",
       "      <td>145678</td>\n",
       "      <td>.</td>\n",
       "      <td>-</td>\n",
       "      <td>.</td>\n",
       "      <td>ID=exon:Smp_315690.2.2;Parent=transcript:Smp_3...</td>\n",
       "    </tr>\n",
       "    <tr>\n",
       "      <th>7</th>\n",
       "      <td>SM_V7_1</td>\n",
       "      <td>WormBase_imported</td>\n",
       "      <td>exon</td>\n",
       "      <td>142981</td>\n",
       "      <td>143205</td>\n",
       "      <td>.</td>\n",
       "      <td>-</td>\n",
       "      <td>.</td>\n",
       "      <td>ID=exon:Smp_315690.2.3;Parent=transcript:Smp_3...</td>\n",
       "    </tr>\n",
       "    <tr>\n",
       "      <th>8</th>\n",
       "      <td>SM_V7_1</td>\n",
       "      <td>WormBase_imported</td>\n",
       "      <td>exon</td>\n",
       "      <td>140582</td>\n",
       "      <td>140849</td>\n",
       "      <td>.</td>\n",
       "      <td>-</td>\n",
       "      <td>.</td>\n",
       "      <td>ID=exon:Smp_315690.2.4;Parent=transcript:Smp_3...</td>\n",
       "    </tr>\n",
       "    <tr>\n",
       "      <th>9</th>\n",
       "      <td>SM_V7_1</td>\n",
       "      <td>WormBase_imported</td>\n",
       "      <td>exon</td>\n",
       "      <td>106876</td>\n",
       "      <td>107159</td>\n",
       "      <td>.</td>\n",
       "      <td>-</td>\n",
       "      <td>.</td>\n",
       "      <td>ID=exon:Smp_315690.2.5;Parent=transcript:Smp_3...</td>\n",
       "    </tr>\n",
       "  </tbody>\n",
       "</table>\n",
       "</div>"
      ],
      "text/plain": [
       "     SeqID             Source  Type   Start     End Score Strand Phase  \\\n",
       "0  SM_V7_1  WormBase_imported  exon   88327   88683     .      -     .   \n",
       "1  SM_V7_1  WormBase_imported  exon  151075  151162     .      -     .   \n",
       "2  SM_V7_1  WormBase_imported  exon  145395  145678     .      -     .   \n",
       "3  SM_V7_1  WormBase_imported  exon  142981  143205     .      -     .   \n",
       "4  SM_V7_1  WormBase_imported  exon  103403  103770     .      -     .   \n",
       "5  SM_V7_1  WormBase_imported  exon  151075  151162     .      -     .   \n",
       "6  SM_V7_1  WormBase_imported  exon  145395  145678     .      -     .   \n",
       "7  SM_V7_1  WormBase_imported  exon  142981  143205     .      -     .   \n",
       "8  SM_V7_1  WormBase_imported  exon  140582  140849     .      -     .   \n",
       "9  SM_V7_1  WormBase_imported  exon  106876  107159     .      -     .   \n",
       "\n",
       "                                          Attributes  \n",
       "0  ID=exon:Smp_329140.1.1;Parent=transcript:Smp_3...  \n",
       "1  ID=exon:Smp_315690.1.1;Parent=transcript:Smp_3...  \n",
       "2  ID=exon:Smp_315690.1.2;Parent=transcript:Smp_3...  \n",
       "3  ID=exon:Smp_315690.1.3;Parent=transcript:Smp_3...  \n",
       "4  ID=exon:Smp_315690.1.4;Parent=transcript:Smp_3...  \n",
       "5  ID=exon:Smp_315690.2.1;Parent=transcript:Smp_3...  \n",
       "6  ID=exon:Smp_315690.2.2;Parent=transcript:Smp_3...  \n",
       "7  ID=exon:Smp_315690.2.3;Parent=transcript:Smp_3...  \n",
       "8  ID=exon:Smp_315690.2.4;Parent=transcript:Smp_3...  \n",
       "9  ID=exon:Smp_315690.2.5;Parent=transcript:Smp_3...  "
      ]
     },
     "execution_count": 12,
     "metadata": {},
     "output_type": "execute_result"
    }
   ],
   "source": [
    "exons_df = exons_df.reset_index(drop=True)\n",
    "exons_df.head(10)"
   ]
  },
  {
   "cell_type": "markdown",
   "metadata": {
    "id": "1nB-yVR9XxfM"
   },
   "source": [
    "Returning to our activity ... Our goal is to generate a file that contains the information of:\n",
    "- location of the exon in a contig / chromosome;\n",
    "- gene in which this exon is found;\n",
    "- mRNA in which this exon is found;\n",
    "- order of appearance of this exon in the gene in which it is found\n",
    "- size of this exon;\n",
    "- initial position of this exon in the genome;\n",
    "- final position of this exon in the genome;\n",
    "- strand on which this exon occurs.\n",
    "\n",
    "We will then select only the columns that interest us:"
   ]
  },
  {
   "cell_type": "code",
   "execution_count": 13,
   "metadata": {
    "colab": {
     "base_uri": "https://localhost:8080/",
     "height": 137
    },
    "id": "mM8kWpUwXxfP",
    "outputId": "43363ef7-3b56-4214-9bc8-8b78e24904c8"
   },
   "outputs": [
    {
     "data": {
      "text/html": [
       "<div>\n",
       "<style scoped>\n",
       "    .dataframe tbody tr th:only-of-type {\n",
       "        vertical-align: middle;\n",
       "    }\n",
       "\n",
       "    .dataframe tbody tr th {\n",
       "        vertical-align: top;\n",
       "    }\n",
       "\n",
       "    .dataframe thead th {\n",
       "        text-align: right;\n",
       "    }\n",
       "</style>\n",
       "<table border=\"1\" class=\"dataframe\">\n",
       "  <thead>\n",
       "    <tr style=\"text-align: right;\">\n",
       "      <th></th>\n",
       "      <th>SeqID</th>\n",
       "      <th>Start</th>\n",
       "      <th>End</th>\n",
       "      <th>Strand</th>\n",
       "      <th>Attributes</th>\n",
       "    </tr>\n",
       "  </thead>\n",
       "  <tbody>\n",
       "    <tr>\n",
       "      <th>0</th>\n",
       "      <td>SM_V7_1</td>\n",
       "      <td>88327</td>\n",
       "      <td>88683</td>\n",
       "      <td>-</td>\n",
       "      <td>ID=exon:Smp_329140.1.1;Parent=transcript:Smp_3...</td>\n",
       "    </tr>\n",
       "    <tr>\n",
       "      <th>1</th>\n",
       "      <td>SM_V7_1</td>\n",
       "      <td>151075</td>\n",
       "      <td>151162</td>\n",
       "      <td>-</td>\n",
       "      <td>ID=exon:Smp_315690.1.1;Parent=transcript:Smp_3...</td>\n",
       "    </tr>\n",
       "    <tr>\n",
       "      <th>2</th>\n",
       "      <td>SM_V7_1</td>\n",
       "      <td>145395</td>\n",
       "      <td>145678</td>\n",
       "      <td>-</td>\n",
       "      <td>ID=exon:Smp_315690.1.2;Parent=transcript:Smp_3...</td>\n",
       "    </tr>\n",
       "  </tbody>\n",
       "</table>\n",
       "</div>"
      ],
      "text/plain": [
       "     SeqID   Start     End Strand  \\\n",
       "0  SM_V7_1   88327   88683      -   \n",
       "1  SM_V7_1  151075  151162      -   \n",
       "2  SM_V7_1  145395  145678      -   \n",
       "\n",
       "                                          Attributes  \n",
       "0  ID=exon:Smp_329140.1.1;Parent=transcript:Smp_3...  \n",
       "1  ID=exon:Smp_315690.1.1;Parent=transcript:Smp_3...  \n",
       "2  ID=exon:Smp_315690.1.2;Parent=transcript:Smp_3...  "
      ]
     },
     "execution_count": 13,
     "metadata": {},
     "output_type": "execute_result"
    }
   ],
   "source": [
    "exons_df[['SeqID', 'Start', 'End', 'Strand', 'Attributes']].head(3)"
   ]
  },
  {
   "cell_type": "code",
   "execution_count": 14,
   "metadata": {
    "colab": {
     "base_uri": "https://localhost:8080/",
     "height": 137
    },
    "id": "_FvdV0o5Xxfd",
    "outputId": "47ab4076-ee45-45cd-d1a6-b07625d635b8"
   },
   "outputs": [
    {
     "data": {
      "text/html": [
       "<div>\n",
       "<style scoped>\n",
       "    .dataframe tbody tr th:only-of-type {\n",
       "        vertical-align: middle;\n",
       "    }\n",
       "\n",
       "    .dataframe tbody tr th {\n",
       "        vertical-align: top;\n",
       "    }\n",
       "\n",
       "    .dataframe thead th {\n",
       "        text-align: right;\n",
       "    }\n",
       "</style>\n",
       "<table border=\"1\" class=\"dataframe\">\n",
       "  <thead>\n",
       "    <tr style=\"text-align: right;\">\n",
       "      <th></th>\n",
       "      <th>SeqID</th>\n",
       "      <th>Source</th>\n",
       "      <th>Type</th>\n",
       "      <th>Start</th>\n",
       "      <th>End</th>\n",
       "      <th>Score</th>\n",
       "      <th>Strand</th>\n",
       "      <th>Phase</th>\n",
       "      <th>Attributes</th>\n",
       "    </tr>\n",
       "  </thead>\n",
       "  <tbody>\n",
       "    <tr>\n",
       "      <th>0</th>\n",
       "      <td>SM_V7_1</td>\n",
       "      <td>WormBase_imported</td>\n",
       "      <td>exon</td>\n",
       "      <td>88327</td>\n",
       "      <td>88683</td>\n",
       "      <td>.</td>\n",
       "      <td>-</td>\n",
       "      <td>.</td>\n",
       "      <td>ID=exon:Smp_329140.1.1;Parent=transcript:Smp_3...</td>\n",
       "    </tr>\n",
       "    <tr>\n",
       "      <th>1</th>\n",
       "      <td>SM_V7_1</td>\n",
       "      <td>WormBase_imported</td>\n",
       "      <td>exon</td>\n",
       "      <td>151075</td>\n",
       "      <td>151162</td>\n",
       "      <td>.</td>\n",
       "      <td>-</td>\n",
       "      <td>.</td>\n",
       "      <td>ID=exon:Smp_315690.1.1;Parent=transcript:Smp_3...</td>\n",
       "    </tr>\n",
       "    <tr>\n",
       "      <th>2</th>\n",
       "      <td>SM_V7_1</td>\n",
       "      <td>WormBase_imported</td>\n",
       "      <td>exon</td>\n",
       "      <td>145395</td>\n",
       "      <td>145678</td>\n",
       "      <td>.</td>\n",
       "      <td>-</td>\n",
       "      <td>.</td>\n",
       "      <td>ID=exon:Smp_315690.1.2;Parent=transcript:Smp_3...</td>\n",
       "    </tr>\n",
       "  </tbody>\n",
       "</table>\n",
       "</div>"
      ],
      "text/plain": [
       "     SeqID             Source  Type   Start     End Score Strand Phase  \\\n",
       "0  SM_V7_1  WormBase_imported  exon   88327   88683     .      -     .   \n",
       "1  SM_V7_1  WormBase_imported  exon  151075  151162     .      -     .   \n",
       "2  SM_V7_1  WormBase_imported  exon  145395  145678     .      -     .   \n",
       "\n",
       "                                          Attributes  \n",
       "0  ID=exon:Smp_329140.1.1;Parent=transcript:Smp_3...  \n",
       "1  ID=exon:Smp_315690.1.1;Parent=transcript:Smp_3...  \n",
       "2  ID=exon:Smp_315690.1.2;Parent=transcript:Smp_3...  "
      ]
     },
     "execution_count": 14,
     "metadata": {},
     "output_type": "execute_result"
    }
   ],
   "source": [
    "exons_df.head(3)"
   ]
  },
  {
   "cell_type": "markdown",
   "metadata": {
    "id": "o5l1bd9jXxfn"
   },
   "source": [
    "Oops, remember the variable!\n",
    "\n",
    "Note: if we save the variable with <i> head(3) </i>, we will have only the first 3 lines of the dataframe!"
   ]
  },
  {
   "cell_type": "code",
   "execution_count": 15,
   "metadata": {
    "colab": {
     "base_uri": "https://localhost:8080/",
     "height": 137
    },
    "id": "9u_FSeViXxfs",
    "outputId": "8b3b269e-7bee-4e84-e53a-b1471d34ab4b"
   },
   "outputs": [
    {
     "data": {
      "text/html": [
       "<div>\n",
       "<style scoped>\n",
       "    .dataframe tbody tr th:only-of-type {\n",
       "        vertical-align: middle;\n",
       "    }\n",
       "\n",
       "    .dataframe tbody tr th {\n",
       "        vertical-align: top;\n",
       "    }\n",
       "\n",
       "    .dataframe thead th {\n",
       "        text-align: right;\n",
       "    }\n",
       "</style>\n",
       "<table border=\"1\" class=\"dataframe\">\n",
       "  <thead>\n",
       "    <tr style=\"text-align: right;\">\n",
       "      <th></th>\n",
       "      <th>SeqID</th>\n",
       "      <th>Start</th>\n",
       "      <th>End</th>\n",
       "      <th>Strand</th>\n",
       "      <th>Attributes</th>\n",
       "    </tr>\n",
       "  </thead>\n",
       "  <tbody>\n",
       "    <tr>\n",
       "      <th>0</th>\n",
       "      <td>SM_V7_1</td>\n",
       "      <td>88327</td>\n",
       "      <td>88683</td>\n",
       "      <td>-</td>\n",
       "      <td>ID=exon:Smp_329140.1.1;Parent=transcript:Smp_3...</td>\n",
       "    </tr>\n",
       "    <tr>\n",
       "      <th>1</th>\n",
       "      <td>SM_V7_1</td>\n",
       "      <td>151075</td>\n",
       "      <td>151162</td>\n",
       "      <td>-</td>\n",
       "      <td>ID=exon:Smp_315690.1.1;Parent=transcript:Smp_3...</td>\n",
       "    </tr>\n",
       "    <tr>\n",
       "      <th>2</th>\n",
       "      <td>SM_V7_1</td>\n",
       "      <td>145395</td>\n",
       "      <td>145678</td>\n",
       "      <td>-</td>\n",
       "      <td>ID=exon:Smp_315690.1.2;Parent=transcript:Smp_3...</td>\n",
       "    </tr>\n",
       "  </tbody>\n",
       "</table>\n",
       "</div>"
      ],
      "text/plain": [
       "     SeqID   Start     End Strand  \\\n",
       "0  SM_V7_1   88327   88683      -   \n",
       "1  SM_V7_1  151075  151162      -   \n",
       "2  SM_V7_1  145395  145678      -   \n",
       "\n",
       "                                          Attributes  \n",
       "0  ID=exon:Smp_329140.1.1;Parent=transcript:Smp_3...  \n",
       "1  ID=exon:Smp_315690.1.1;Parent=transcript:Smp_3...  \n",
       "2  ID=exon:Smp_315690.1.2;Parent=transcript:Smp_3...  "
      ]
     },
     "execution_count": 15,
     "metadata": {},
     "output_type": "execute_result"
    }
   ],
   "source": [
    "exons_df = exons_df[['SeqID', 'Start', 'End', 'Strand', 'Attributes']]\n",
    "exons_df.head(3)"
   ]
  },
  {
   "cell_type": "markdown",
   "metadata": {
    "id": "VsCLkjn2Xxf6"
   },
   "source": [
    "Can you read all the information contained in all the columns? If not, just change the *default* of the pandas:"
   ]
  },
  {
   "cell_type": "code",
   "execution_count": 16,
   "metadata": {
    "id": "Ks9Qf4onXxgB"
   },
   "outputs": [],
   "source": [
    "pd.set_option('display.max_colwidth', None)"
   ]
  },
  {
   "cell_type": "code",
   "execution_count": 17,
   "metadata": {
    "colab": {
     "base_uri": "https://localhost:8080/",
     "height": 196
    },
    "id": "iDFwOX_YXxgN",
    "outputId": "af3a7896-7428-4c92-ea04-1afbf04cb7f0",
    "scrolled": true
   },
   "outputs": [
    {
     "data": {
      "text/html": [
       "<div>\n",
       "<style scoped>\n",
       "    .dataframe tbody tr th:only-of-type {\n",
       "        vertical-align: middle;\n",
       "    }\n",
       "\n",
       "    .dataframe tbody tr th {\n",
       "        vertical-align: top;\n",
       "    }\n",
       "\n",
       "    .dataframe thead th {\n",
       "        text-align: right;\n",
       "    }\n",
       "</style>\n",
       "<table border=\"1\" class=\"dataframe\">\n",
       "  <thead>\n",
       "    <tr style=\"text-align: right;\">\n",
       "      <th></th>\n",
       "      <th>SeqID</th>\n",
       "      <th>Start</th>\n",
       "      <th>End</th>\n",
       "      <th>Strand</th>\n",
       "      <th>Attributes</th>\n",
       "    </tr>\n",
       "  </thead>\n",
       "  <tbody>\n",
       "    <tr>\n",
       "      <th>0</th>\n",
       "      <td>SM_V7_1</td>\n",
       "      <td>88327</td>\n",
       "      <td>88683</td>\n",
       "      <td>-</td>\n",
       "      <td>ID=exon:Smp_329140.1.1;Parent=transcript:Smp_329140.1</td>\n",
       "    </tr>\n",
       "    <tr>\n",
       "      <th>1</th>\n",
       "      <td>SM_V7_1</td>\n",
       "      <td>151075</td>\n",
       "      <td>151162</td>\n",
       "      <td>-</td>\n",
       "      <td>ID=exon:Smp_315690.1.1;Parent=transcript:Smp_315690.1</td>\n",
       "    </tr>\n",
       "    <tr>\n",
       "      <th>2</th>\n",
       "      <td>SM_V7_1</td>\n",
       "      <td>145395</td>\n",
       "      <td>145678</td>\n",
       "      <td>-</td>\n",
       "      <td>ID=exon:Smp_315690.1.2;Parent=transcript:Smp_315690.1</td>\n",
       "    </tr>\n",
       "    <tr>\n",
       "      <th>3</th>\n",
       "      <td>SM_V7_1</td>\n",
       "      <td>142981</td>\n",
       "      <td>143205</td>\n",
       "      <td>-</td>\n",
       "      <td>ID=exon:Smp_315690.1.3;Parent=transcript:Smp_315690.1</td>\n",
       "    </tr>\n",
       "    <tr>\n",
       "      <th>4</th>\n",
       "      <td>SM_V7_1</td>\n",
       "      <td>103403</td>\n",
       "      <td>103770</td>\n",
       "      <td>-</td>\n",
       "      <td>ID=exon:Smp_315690.1.4;Parent=transcript:Smp_315690.1</td>\n",
       "    </tr>\n",
       "  </tbody>\n",
       "</table>\n",
       "</div>"
      ],
      "text/plain": [
       "     SeqID   Start     End Strand  \\\n",
       "0  SM_V7_1   88327   88683      -   \n",
       "1  SM_V7_1  151075  151162      -   \n",
       "2  SM_V7_1  145395  145678      -   \n",
       "3  SM_V7_1  142981  143205      -   \n",
       "4  SM_V7_1  103403  103770      -   \n",
       "\n",
       "                                              Attributes  \n",
       "0  ID=exon:Smp_329140.1.1;Parent=transcript:Smp_329140.1  \n",
       "1  ID=exon:Smp_315690.1.1;Parent=transcript:Smp_315690.1  \n",
       "2  ID=exon:Smp_315690.1.2;Parent=transcript:Smp_315690.1  \n",
       "3  ID=exon:Smp_315690.1.3;Parent=transcript:Smp_315690.1  \n",
       "4  ID=exon:Smp_315690.1.4;Parent=transcript:Smp_315690.1  "
      ]
     },
     "execution_count": 17,
     "metadata": {},
     "output_type": "execute_result"
    }
   ],
   "source": [
    "exons_df.head(5)"
   ]
  },
  {
   "cell_type": "markdown",
   "metadata": {
    "id": "EzDYelAQgKZ_"
   },
   "source": [
    "And the other statistical parameters, such as mean, median, standard deviation ...?"
   ]
  },
  {
   "cell_type": "markdown",
   "metadata": {
    "id": "JIVTNcgqxwyZ"
   },
   "source": [
    "How about a graph to better visualize the dispersion of the exon sizes of <i> Schistosoma mansoni </i>?\n",
    "\n",
    "For that, we will need a library that works with graphics, such as matplotlib or seaborn ...\n",
    "\n",
    "Let's use **Matplotlib**!"
   ]
  },
  {
   "cell_type": "markdown",
   "metadata": {
    "id": "25k859wZzowQ"
   },
   "source": [
    "To work with Matplotlib, we must understand the concept of **Figure**, **Subplot**, **Axes** and **Axis**. These elements can be represented as breakdowns of the larger element **Figure** as shown in the diagram:\n",
    "\n",
    "\n",
    "<img src=https://raw.githubusercontent.com/luizazuvanov/iii_workshoppythondadosbiologicos/master/DadosAtividadesPraticas/LuizaZuvanov/matplotlib.svg>\n",
    "\n",
    "<br>\n",
    "\n",
    "To make a plot, we must follow some steps:\n",
    "- create a **figure** using the *figure()* function;\n",
    "- add a **subplot** using the function *add_subplot()*;\n",
    "- plot an **Axes** using one of the different plot functions, such as *boxplot()*, *scatter()*, *lines()* ...\n",
    "\n",
    "<br>\n",
    "\n",
    "**Axis**, titles, legends, colors, size of the figure, all can be adjusted."
   ]
  },
  {
   "cell_type": "markdown",
   "metadata": {
    "id": "j5Ma8y-MjLhb"
   },
   "source": [
    "#3. Activities\n",
    "\n",
    "\n",
    "Time to put into practice everything we saw during this class! Try to do the proposed exercises yourself, but if you have any questions, please contact our monitors. In programming, as in many other areas of knowledge, the most valuable thing is to understand the logic of what we are doing, memorizing all the functions that we can use and its various parameters is not necessary. So, use Google, search the documentation for the function you are going to use, there will be documented all the parameters just right! And again, if you feel \"stuck\", let us know that we will help you!\n",
    "\n",
    "<br>\n",
    "\n",
    "At the end of the day, we will show the resolution of the activities and answer the most pertinent questions. Good job and see you soon!\n",
    "\n",
    "<br>\n",
    "<br>\n",
    "\n",
    "### 1) \n",
    "Read the file \"introns.tsv\", found in our GitHub repository (https://github.com/luizazuvanov/iii_workshoppythondadosbiologicos/tree/master/DadosAtividadesPraticas/LuizaZuvanov), como um dataframe.\n",
    "\n",
    "<br>\n",
    "\n",
    "### 2)\n",
    "Save the information for the first 100 introns in the \"introns.tsv\" file to a \".tsv\" file. In another file, save the last 100 introns.\n",
    "\n",
    "<br>\n",
    "\n",
    "### 3) \n",
    "Create a list with the name of all the intron genes that are on the positive strand. Create another list with the negative strand intron genes. Note: we want the name of the gene to appear only once in the list.\n",
    "\n",
    "\n",
    "<br>\n",
    "\n",
    "### 4) \n",
    "### a.\n",
    "Find out, in relation to the size of the introns: maximum, minimum, average, median.\n",
    "\n",
    "\n",
    "<br>\n",
    "\n",
    "### 5) \n",
    "Make a histogram of the intron sizes, considering:\n",
    "- only introns with size less than or equal to 1000;\n",
    "- 1000 bins to make the histogram;\n",
    "- y-axis from 0 to 2000;\n",
    "- x axis from 0 to 1000.\n",
    "\n",
    "In this figure, don't forget to:\n",
    "- adjust its size;\n",
    "- enter title for all axes;\n",
    "- add title of the graph;\n",
    "- save the figure in png format.\n",
    "\n",
    "<br>\n",
    "\n",
    "### 6) \n",
    "### a. \n",
    "Add an intron position column according to the 3' to 5' direction of the gene in the intron information table. The Position column, which is already made, refers to the 5' to 3' direction of the gene. (Hint: remember how the Position column was made in the exon table).\n",
    "### b.\n",
    "What is the median of the size of the introns that are in position 1 of the gene in the 5' -> 3' direction? And in position 1 of direction 3' -> 5'? Discover the other values for positions 2, 3, ..., 10.\n",
    "\n",
    "<br>\n",
    "\n",
    "### Challenge. \n",
    "Make a figure with three line graphs of the median intron size (y-axis) by position (x-axis):\n",
    "- graph 1: only with the values obtained in relation to the 5' -> 3' direction;\n",
    "- graph 2: only with the values obtained in relation to the 3' -> 5' direction;\n",
    "- chart 3: use one line to represent the values in relation to the positions referring to the 5'-> 3' direction of the gene and another line to the 3' -> 5' direction. Remember to enter a caption.\n",
    "\n",
    "Just consider positions 1 through 10 to make the graphs and don't forget to:\n",
    "- adjust the size of the figure;\n",
    "- enter title for all axes;\n",
    "- add title of the graph;\n",
    "- save the figure in png format.\n",
    "\n",
    "\n",
    "<br>\n",
    "\n",
    "\n"
   ]
  },
  {
   "cell_type": "markdown",
   "metadata": {
    "id": "9dIg_aWDXxrV"
   },
   "source": [
    "---"
   ]
  },
  {
   "cell_type": "markdown",
   "metadata": {
    "id": "Z_0Wmo9wB3Sn"
   },
   "source": [
    "Answers to exercises:"
   ]
  },
  {
   "cell_type": "markdown",
   "metadata": {
    "id": "3z3fAx6cB8Oh"
   },
   "source": [
    "1)"
   ]
  },
  {
   "cell_type": "code",
   "execution_count": 18,
   "metadata": {
    "colab": {
     "base_uri": "https://localhost:8080/",
     "height": 137
    },
    "id": "s4TM2fgzT3nY",
    "outputId": "cc6de597-1bc1-451f-c27e-026e336a444d"
   },
   "outputs": [
    {
     "data": {
      "text/html": [
       "<div>\n",
       "<style scoped>\n",
       "    .dataframe tbody tr th:only-of-type {\n",
       "        vertical-align: middle;\n",
       "    }\n",
       "\n",
       "    .dataframe tbody tr th {\n",
       "        vertical-align: top;\n",
       "    }\n",
       "\n",
       "    .dataframe thead th {\n",
       "        text-align: right;\n",
       "    }\n",
       "</style>\n",
       "<table border=\"1\" class=\"dataframe\">\n",
       "  <thead>\n",
       "    <tr style=\"text-align: right;\">\n",
       "      <th></th>\n",
       "      <th>SeqID</th>\n",
       "      <th>mRNA</th>\n",
       "      <th>Gene</th>\n",
       "      <th>Position</th>\n",
       "      <th>Strand</th>\n",
       "      <th>Start</th>\n",
       "      <th>End</th>\n",
       "      <th>Size</th>\n",
       "    </tr>\n",
       "  </thead>\n",
       "  <tbody>\n",
       "    <tr>\n",
       "      <th>0</th>\n",
       "      <td>SM_V7_1</td>\n",
       "      <td>Smp_315690.1</td>\n",
       "      <td>Smp_315690</td>\n",
       "      <td>1</td>\n",
       "      <td>-</td>\n",
       "      <td>145679</td>\n",
       "      <td>151074</td>\n",
       "      <td>5396</td>\n",
       "    </tr>\n",
       "    <tr>\n",
       "      <th>1</th>\n",
       "      <td>SM_V7_1</td>\n",
       "      <td>Smp_315690.1</td>\n",
       "      <td>Smp_315690</td>\n",
       "      <td>2</td>\n",
       "      <td>-</td>\n",
       "      <td>143206</td>\n",
       "      <td>145394</td>\n",
       "      <td>2189</td>\n",
       "    </tr>\n",
       "    <tr>\n",
       "      <th>2</th>\n",
       "      <td>SM_V7_1</td>\n",
       "      <td>Smp_315690.1</td>\n",
       "      <td>Smp_315690</td>\n",
       "      <td>3</td>\n",
       "      <td>-</td>\n",
       "      <td>103771</td>\n",
       "      <td>142980</td>\n",
       "      <td>39210</td>\n",
       "    </tr>\n",
       "  </tbody>\n",
       "</table>\n",
       "</div>"
      ],
      "text/plain": [
       "     SeqID          mRNA        Gene  Position Strand   Start     End   Size\n",
       "0  SM_V7_1  Smp_315690.1  Smp_315690         1      -  145679  151074   5396\n",
       "1  SM_V7_1  Smp_315690.1  Smp_315690         2      -  143206  145394   2189\n",
       "2  SM_V7_1  Smp_315690.1  Smp_315690         3      -  103771  142980  39210"
      ]
     },
     "execution_count": 18,
     "metadata": {},
     "output_type": "execute_result"
    }
   ],
   "source": [
    "introns_df = pd.read_table('https://raw.githubusercontent.com/luizazuvanov/iii_workshoppythondadosbiologicos/master/DadosAtividadesPraticas/LuizaZuvanov/introns.tsv')\n",
    "introns_df.head(3)"
   ]
  },
  {
   "cell_type": "code",
   "execution_count": null,
   "metadata": {},
   "outputs": [],
   "source": []
  },
  {
   "cell_type": "code",
   "execution_count": null,
   "metadata": {},
   "outputs": [],
   "source": []
  },
  {
   "cell_type": "markdown",
   "metadata": {
    "id": "_TYJz8BBC74d"
   },
   "source": [
    "2)"
   ]
  },
  {
   "cell_type": "code",
   "execution_count": 19,
   "metadata": {
    "colab": {
     "base_uri": "https://localhost:8080/",
     "height": 196
    },
    "id": "IX49mJXZCsOF",
    "outputId": "999a74b3-292b-498e-bb79-dff1246ed13e"
   },
   "outputs": [
    {
     "data": {
      "text/html": [
       "<div>\n",
       "<style scoped>\n",
       "    .dataframe tbody tr th:only-of-type {\n",
       "        vertical-align: middle;\n",
       "    }\n",
       "\n",
       "    .dataframe tbody tr th {\n",
       "        vertical-align: top;\n",
       "    }\n",
       "\n",
       "    .dataframe thead th {\n",
       "        text-align: right;\n",
       "    }\n",
       "</style>\n",
       "<table border=\"1\" class=\"dataframe\">\n",
       "  <thead>\n",
       "    <tr style=\"text-align: right;\">\n",
       "      <th></th>\n",
       "      <th>SeqID</th>\n",
       "      <th>mRNA</th>\n",
       "      <th>Gene</th>\n",
       "      <th>Position</th>\n",
       "      <th>Strand</th>\n",
       "      <th>Start</th>\n",
       "      <th>End</th>\n",
       "      <th>Size</th>\n",
       "    </tr>\n",
       "  </thead>\n",
       "  <tbody>\n",
       "    <tr>\n",
       "      <th>95</th>\n",
       "      <td>SM_V7_1</td>\n",
       "      <td>Smp_319340.3</td>\n",
       "      <td>Smp_319340</td>\n",
       "      <td>4</td>\n",
       "      <td>+</td>\n",
       "      <td>1233976</td>\n",
       "      <td>1234971</td>\n",
       "      <td>996</td>\n",
       "    </tr>\n",
       "    <tr>\n",
       "      <th>96</th>\n",
       "      <td>SM_V7_1</td>\n",
       "      <td>Smp_319340.3</td>\n",
       "      <td>Smp_319340</td>\n",
       "      <td>5</td>\n",
       "      <td>+</td>\n",
       "      <td>1235091</td>\n",
       "      <td>1235898</td>\n",
       "      <td>808</td>\n",
       "    </tr>\n",
       "    <tr>\n",
       "      <th>97</th>\n",
       "      <td>SM_V7_1</td>\n",
       "      <td>Smp_319340.3</td>\n",
       "      <td>Smp_319340</td>\n",
       "      <td>6</td>\n",
       "      <td>+</td>\n",
       "      <td>1235985</td>\n",
       "      <td>1239481</td>\n",
       "      <td>3497</td>\n",
       "    </tr>\n",
       "    <tr>\n",
       "      <th>98</th>\n",
       "      <td>SM_V7_1</td>\n",
       "      <td>Smp_319340.3</td>\n",
       "      <td>Smp_319340</td>\n",
       "      <td>7</td>\n",
       "      <td>+</td>\n",
       "      <td>1239655</td>\n",
       "      <td>1241131</td>\n",
       "      <td>1477</td>\n",
       "    </tr>\n",
       "    <tr>\n",
       "      <th>99</th>\n",
       "      <td>SM_V7_1</td>\n",
       "      <td>Smp_319340.3</td>\n",
       "      <td>Smp_319340</td>\n",
       "      <td>8</td>\n",
       "      <td>+</td>\n",
       "      <td>1241347</td>\n",
       "      <td>1242857</td>\n",
       "      <td>1511</td>\n",
       "    </tr>\n",
       "  </tbody>\n",
       "</table>\n",
       "</div>"
      ],
      "text/plain": [
       "      SeqID          mRNA        Gene  Position Strand    Start      End  Size\n",
       "95  SM_V7_1  Smp_319340.3  Smp_319340         4      +  1233976  1234971   996\n",
       "96  SM_V7_1  Smp_319340.3  Smp_319340         5      +  1235091  1235898   808\n",
       "97  SM_V7_1  Smp_319340.3  Smp_319340         6      +  1235985  1239481  3497\n",
       "98  SM_V7_1  Smp_319340.3  Smp_319340         7      +  1239655  1241131  1477\n",
       "99  SM_V7_1  Smp_319340.3  Smp_319340         8      +  1241347  1242857  1511"
      ]
     },
     "execution_count": 19,
     "metadata": {},
     "output_type": "execute_result"
    }
   ],
   "source": [
    "introns_first100_df = introns_df.head(100)\n",
    "introns_first100_df.tail()"
   ]
  },
  {
   "cell_type": "code",
   "execution_count": 20,
   "metadata": {
    "colab": {
     "base_uri": "https://localhost:8080/",
     "height": 196
    },
    "id": "sWDIAVjeDH_E",
    "outputId": "393fd19f-4241-4e05-94f3-f7448e79a38c"
   },
   "outputs": [
    {
     "data": {
      "text/html": [
       "<div>\n",
       "<style scoped>\n",
       "    .dataframe tbody tr th:only-of-type {\n",
       "        vertical-align: middle;\n",
       "    }\n",
       "\n",
       "    .dataframe tbody tr th {\n",
       "        vertical-align: top;\n",
       "    }\n",
       "\n",
       "    .dataframe thead th {\n",
       "        text-align: right;\n",
       "    }\n",
       "</style>\n",
       "<table border=\"1\" class=\"dataframe\">\n",
       "  <thead>\n",
       "    <tr style=\"text-align: right;\">\n",
       "      <th></th>\n",
       "      <th>SeqID</th>\n",
       "      <th>mRNA</th>\n",
       "      <th>Gene</th>\n",
       "      <th>Position</th>\n",
       "      <th>Strand</th>\n",
       "      <th>Start</th>\n",
       "      <th>End</th>\n",
       "      <th>Size</th>\n",
       "    </tr>\n",
       "  </thead>\n",
       "  <tbody>\n",
       "    <tr>\n",
       "      <th>112391</th>\n",
       "      <td>SM_V7_MITO</td>\n",
       "      <td>Smp_900110.1</td>\n",
       "      <td>Smp_900110</td>\n",
       "      <td>1</td>\n",
       "      <td>+</td>\n",
       "      <td>13750</td>\n",
       "      <td>13752</td>\n",
       "      <td>3</td>\n",
       "    </tr>\n",
       "    <tr>\n",
       "      <th>112392</th>\n",
       "      <td>SM_V7_4H034</td>\n",
       "      <td>Smp_325270.1</td>\n",
       "      <td>Smp_325270</td>\n",
       "      <td>1</td>\n",
       "      <td>-</td>\n",
       "      <td>9114</td>\n",
       "      <td>10209</td>\n",
       "      <td>1096</td>\n",
       "    </tr>\n",
       "    <tr>\n",
       "      <th>112393</th>\n",
       "      <td>SM_V7_ZWH038</td>\n",
       "      <td>Smp_325280.1</td>\n",
       "      <td>Smp_325280</td>\n",
       "      <td>1</td>\n",
       "      <td>-</td>\n",
       "      <td>19820</td>\n",
       "      <td>25569</td>\n",
       "      <td>5750</td>\n",
       "    </tr>\n",
       "    <tr>\n",
       "      <th>112394</th>\n",
       "      <td>SM_V7_ZWH038</td>\n",
       "      <td>Smp_325280.1</td>\n",
       "      <td>Smp_325280</td>\n",
       "      <td>2</td>\n",
       "      <td>-</td>\n",
       "      <td>17259</td>\n",
       "      <td>19739</td>\n",
       "      <td>2481</td>\n",
       "    </tr>\n",
       "    <tr>\n",
       "      <th>112395</th>\n",
       "      <td>SM_V7_ZWH038</td>\n",
       "      <td>Smp_325280.1</td>\n",
       "      <td>Smp_325280</td>\n",
       "      <td>3</td>\n",
       "      <td>-</td>\n",
       "      <td>9633</td>\n",
       "      <td>17105</td>\n",
       "      <td>7473</td>\n",
       "    </tr>\n",
       "  </tbody>\n",
       "</table>\n",
       "</div>"
      ],
      "text/plain": [
       "               SeqID          mRNA        Gene  Position Strand  Start    End  \\\n",
       "112391    SM_V7_MITO  Smp_900110.1  Smp_900110         1      +  13750  13752   \n",
       "112392   SM_V7_4H034  Smp_325270.1  Smp_325270         1      -   9114  10209   \n",
       "112393  SM_V7_ZWH038  Smp_325280.1  Smp_325280         1      -  19820  25569   \n",
       "112394  SM_V7_ZWH038  Smp_325280.1  Smp_325280         2      -  17259  19739   \n",
       "112395  SM_V7_ZWH038  Smp_325280.1  Smp_325280         3      -   9633  17105   \n",
       "\n",
       "        Size  \n",
       "112391     3  \n",
       "112392  1096  \n",
       "112393  5750  \n",
       "112394  2481  \n",
       "112395  7473  "
      ]
     },
     "execution_count": 20,
     "metadata": {},
     "output_type": "execute_result"
    }
   ],
   "source": [
    "introns_last100_df = introns_df.tail(100)\n",
    "introns_last100_df.head()"
   ]
  },
  {
   "cell_type": "code",
   "execution_count": 21,
   "metadata": {
    "colab": {
     "base_uri": "https://localhost:8080/",
     "height": 71
    },
    "id": "2mocELtIDip8",
    "outputId": "e25f842d-317c-4a13-b487-8440a43fee56"
   },
   "outputs": [
    {
     "name": "stdout",
     "output_type": "stream",
     "text": [
      "(112491, 8)\n",
      "(100, 8)\n",
      "(100, 8)\n"
     ]
    }
   ],
   "source": [
    "print(introns_df.shape)\n",
    "print(introns_first100_df.shape)\n",
    "print(introns_last100_df.shape)"
   ]
  },
  {
   "cell_type": "markdown",
   "metadata": {
    "id": "MKaueYgHDdKM"
   },
   "source": [
    "3)"
   ]
  },
  {
   "cell_type": "code",
   "execution_count": 22,
   "metadata": {
    "colab": {
     "base_uri": "https://localhost:8080/",
     "height": 53
    },
    "id": "6pei7UybE9Gn",
    "outputId": "e11540a8-af4c-491d-a64f-aed2f9f8bab6"
   },
   "outputs": [
    {
     "name": "stdout",
     "output_type": "stream",
     "text": [
      "Smp_319700\n",
      "4737\n"
     ]
    }
   ],
   "source": [
    "# Using set\n",
    "introns_positive_df = introns_df[introns_df[\"Strand\"]==\"+\"]\n",
    "genes_positive_list = introns_positive_df[\"Gene\"].tolist()\n",
    "genes_positive_list = list(set(genes_positive_list))\n",
    "\n",
    "print(genes_positive_list[0])\n",
    "print(len(genes_positive_list))"
   ]
  },
  {
   "cell_type": "code",
   "execution_count": 23,
   "metadata": {
    "colab": {
     "base_uri": "https://localhost:8080/",
     "height": 53
    },
    "id": "ZSF5fHFUGrga",
    "outputId": "55e087f3-1088-4c1a-e9e6-251941d64600"
   },
   "outputs": [
    {
     "name": "stdout",
     "output_type": "stream",
     "text": [
      "Smp_317470\n",
      "4737\n"
     ]
    }
   ],
   "source": [
    "# Using unique df\n",
    "introns_positive_df = introns_df[introns_df[\"Strand\"]==\"+\"]\n",
    "genes_positive_list = introns_positive_df[\"Gene\"].unique()\n",
    "genes_positive_list = list(genes_positive_list)\n",
    "\n",
    "print(genes_positive_list[0])\n",
    "print(len(genes_positive_list))"
   ]
  },
  {
   "cell_type": "code",
   "execution_count": 24,
   "metadata": {
    "colab": {
     "base_uri": "https://localhost:8080/",
     "height": 53
    },
    "id": "bTKU66d1HoxU",
    "outputId": "1d966ff6-5783-43fa-9485-b21a7ee7b2f8"
   },
   "outputs": [
    {
     "name": "stdout",
     "output_type": "stream",
     "text": [
      "Smp_317470\n",
      "4737\n"
     ]
    }
   ],
   "source": [
    "# Using unique df\n",
    "introns_positive_df = introns_df[introns_df[\"Strand\"]==\"+\"]\n",
    "genes_positive_list = introns_positive_df[\"Gene\"].unique()\n",
    "genes_positive_list = genes_positive_list.tolist()\n",
    "\n",
    "print(genes_positive_list[0])\n",
    "print(len(genes_positive_list))"
   ]
  },
  {
   "cell_type": "code",
   "execution_count": 25,
   "metadata": {
    "colab": {
     "base_uri": "https://localhost:8080/",
     "height": 53
    },
    "id": "ltJnBdjSHwxB",
    "outputId": "277002ba-9fc2-4a29-ada5-02eb02a146da"
   },
   "outputs": [
    {
     "name": "stdout",
     "output_type": "stream",
     "text": [
      "Smp_317470\n",
      "4737\n"
     ]
    }
   ],
   "source": [
    "# Using for (example 1)\n",
    "introns_positive_df = introns_df[introns_df[\"Strand\"]==\"+\"]\n",
    "introns_positive_list = []\n",
    "for gene in introns_positive_df[\"Gene\"]:\n",
    "  if gene not in introns_positive_list:\n",
    "    introns_positive_list.append(gene)\n",
    "\n",
    "\n",
    "print(genes_positive_list[0])\n",
    "print(len(genes_positive_list))"
   ]
  },
  {
   "cell_type": "code",
   "execution_count": 26,
   "metadata": {
    "colab": {
     "base_uri": "https://localhost:8080/",
     "height": 89
    },
    "id": "oqlZ6pL1JbWu",
    "outputId": "91995512-1eaa-45ef-b0bc-69795a4ae8bf"
   },
   "outputs": [
    {
     "name": "stdout",
     "output_type": "stream",
     "text": [
      "Smp_317470\n",
      "4737\n",
      "Smp_315690\n",
      "4750\n"
     ]
    }
   ],
   "source": [
    "# Using for (example 2)\n",
    "genes_positive_list = []\n",
    "genes_negative_list = []\n",
    "for index in introns_df.index:\n",
    "  strand = introns_df.loc[index, \"Strand\"]\n",
    "  gene = introns_df.loc[index, \"Gene\"]\n",
    "  if strand == \"+\" and gene not in genes_positive_list:\n",
    "    genes_positive_list.append(gene)\n",
    "  elif strand == \"-\" and gene not in genes_negative_list:\n",
    "    genes_negative_list.append(gene)    \n",
    "    \n",
    "print(genes_positive_list[0])\n",
    "print(len(genes_positive_list))\n",
    "print(genes_negative_list[0])\n",
    "print(len(genes_negative_list))"
   ]
  },
  {
   "cell_type": "code",
   "execution_count": 27,
   "metadata": {
    "colab": {
     "base_uri": "https://localhost:8080/",
     "height": 53
    },
    "id": "AA6r3qI3Mo-R",
    "outputId": "0e1a6ecb-3eaf-4bbf-e0e8-6bf404ad543d"
   },
   "outputs": [
    {
     "name": "stdout",
     "output_type": "stream",
     "text": [
      "Smp_000020\n",
      "4737\n"
     ]
    }
   ],
   "source": [
    "# Using library (numpy)\n",
    "import numpy as np\n",
    "introns_positive_df = introns_df[introns_df[\"Strand\"]==\"+\"]\n",
    "genes_positive_list = introns_positive_df[\"Gene\"].tolist()\n",
    "genes_positive_list = np.unique(genes_positive_list)\n",
    "\n",
    "print(genes_positive_list[0])\n",
    "print(len(genes_positive_list))"
   ]
  },
  {
   "cell_type": "markdown",
   "metadata": {
    "id": "qf7ZpP_NEl7W"
   },
   "source": [
    "4)"
   ]
  },
  {
   "cell_type": "markdown",
   "metadata": {
    "id": "SsIAFdt_V5R3"
   },
   "source": [
    "a)"
   ]
  },
  {
   "cell_type": "code",
   "execution_count": 28,
   "metadata": {
    "colab": {
     "base_uri": "https://localhost:8080/",
     "height": 108
    },
    "id": "EM7REvtHDXVo",
    "outputId": "a6216b38-aa30-4b2c-8f7c-e80d19fa81ac"
   },
   "outputs": [
    {
     "name": "stdout",
     "output_type": "stream",
     "text": [
      "182204\n",
      "182204\n",
      "1\n",
      "2589.4009120729656\n",
      "1608.0\n"
     ]
    }
   ],
   "source": [
    "print(introns_df.Size.max())\n",
    "print(introns_df[\"Size\"].max())\n",
    "print(introns_df[\"Size\"].min())\n",
    "print(introns_df[\"Size\"].mean())\n",
    "print(introns_df[\"Size\"].median())"
   ]
  },
  {
   "cell_type": "markdown",
   "metadata": {
    "id": "_oQa1lUmV9a6"
   },
   "source": [
    "b)"
   ]
  },
  {
   "cell_type": "code",
   "execution_count": 29,
   "metadata": {
    "colab": {
     "base_uri": "https://localhost:8080/",
     "height": 35
    },
    "id": "uVljYsFtEYrU",
    "outputId": "08e13450-fe65-494e-dd30-26cb49070c20"
   },
   "outputs": [
    {
     "data": {
      "text/plain": [
       "<Figure size 640x480 with 0 Axes>"
      ]
     },
     "metadata": {},
     "output_type": "display_data"
    }
   ],
   "source": [
    "introns_figure = plt.figure()"
   ]
  },
  {
   "cell_type": "code",
   "execution_count": 30,
   "metadata": {
    "id": "hZS2p_JnZ2rA"
   },
   "outputs": [],
   "source": [
    "introns_subplot1 = introns_figure.add_subplot(1, 1, 1)"
   ]
  },
  {
   "cell_type": "code",
   "execution_count": 31,
   "metadata": {
    "colab": {
     "base_uri": "https://localhost:8080/",
     "height": 269
    },
    "id": "VKcDZxzyZ2e0",
    "outputId": "dde9a638-214b-45a8-cf59-b9287f12aea1"
   },
   "outputs": [
    {
     "data": {
      "image/png": "[encoded data removed]",
      "text/plain": [
       "<Figure size 640x480 with 1 Axes>"
      ]
     },
     "execution_count": 31,
     "metadata": {},
     "output_type": "execute_result"
    }
   ],
   "source": [
    "introns_figure"
   ]
  },
  {
   "cell_type": "code",
   "execution_count": 32,
   "metadata": {
    "colab": {
     "base_uri": "https://localhost:8080/",
     "height": 323
    },
    "id": "gVK7NjzzZ2C2",
    "outputId": "dce187c3-696f-4ae7-9ed1-4be7c3b639a4"
   },
   "outputs": [
    {
     "data": {
      "image/png": "[encoded data removed]",
      "text/plain": [
       "<Figure size 640x480 with 1 Axes>"
      ]
     },
     "execution_count": 32,
     "metadata": {},
     "output_type": "execute_result"
    }
   ],
   "source": [
    "introns_le1000bp_df = introns_df[introns_df['Size']<=1000]\n",
    "introns_subplot1.hist(introns_le1000bp_df['Size'], bins=1000)\n",
    "introns_subplot1.set_ylim(0, 2000)\n",
    "introns_subplot1.set_xlim(0, 1000)\n",
    "introns_subplot1.set_ylabel('Density\\n')\n",
    "introns_subplot1.set_xlabel('\\nSize')\n",
    "introns_subplot1.set_title('Introns from ${Schistosoma\\ mansoni}$\\n')\n",
    "\n",
    "\n",
    "introns_figure"
   ]
  },
  {
   "cell_type": "code",
   "execution_count": 33,
   "metadata": {
    "colab": {
     "base_uri": "https://localhost:8080/",
     "height": 486
    },
    "id": "GAp9bJTULEA1",
    "outputId": "e586292f-d4b1-4417-9014-6f76aaf460c0"
   },
   "outputs": [
    {
     "data": {
      "image/png": "[encoded data removed]",
      "text/plain": [
       "<Figure size 1000x700 with 1 Axes>"
      ]
     },
     "execution_count": 33,
     "metadata": {},
     "output_type": "execute_result"
    }
   ],
   "source": [
    "introns_figure.set_size_inches(10, 7)\n",
    "introns_figure"
   ]
  },
  {
   "cell_type": "code",
   "execution_count": 34,
   "metadata": {
    "id": "a-RYgQBELE9S"
   },
   "outputs": [],
   "source": [
    "introns_figure.savefig('5.png')\n"
   ]
  },
  {
   "cell_type": "markdown",
   "metadata": {
    "id": "s4l7IuWGPF-y"
   },
   "source": [
    "6)"
   ]
  },
  {
   "cell_type": "markdown",
   "metadata": {
    "id": "gs05zFPL3aSu"
   },
   "source": [
    "a)"
   ]
  },
  {
   "cell_type": "code",
   "execution_count": 35,
   "metadata": {
    "colab": {
     "base_uri": "https://localhost:8080/",
     "height": 196
    },
    "id": "U-E3lQj34UWr",
    "outputId": "5e5ce053-46c7-4161-a59a-3cab01824ab5"
   },
   "outputs": [
    {
     "data": {
      "text/html": [
       "<div>\n",
       "<style scoped>\n",
       "    .dataframe tbody tr th:only-of-type {\n",
       "        vertical-align: middle;\n",
       "    }\n",
       "\n",
       "    .dataframe tbody tr th {\n",
       "        vertical-align: top;\n",
       "    }\n",
       "\n",
       "    .dataframe thead th {\n",
       "        text-align: right;\n",
       "    }\n",
       "</style>\n",
       "<table border=\"1\" class=\"dataframe\">\n",
       "  <thead>\n",
       "    <tr style=\"text-align: right;\">\n",
       "      <th></th>\n",
       "      <th>SeqID</th>\n",
       "      <th>mRNA</th>\n",
       "      <th>Gene</th>\n",
       "      <th>Position</th>\n",
       "      <th>Strand</th>\n",
       "      <th>Start</th>\n",
       "      <th>End</th>\n",
       "      <th>Size</th>\n",
       "      <th>Position_3to5</th>\n",
       "    </tr>\n",
       "  </thead>\n",
       "  <tbody>\n",
       "    <tr>\n",
       "      <th>0</th>\n",
       "      <td>SM_V7_1</td>\n",
       "      <td>Smp_315690.1</td>\n",
       "      <td>Smp_315690</td>\n",
       "      <td>1</td>\n",
       "      <td>-</td>\n",
       "      <td>145679</td>\n",
       "      <td>151074</td>\n",
       "      <td>5396</td>\n",
       "      <td>3</td>\n",
       "    </tr>\n",
       "    <tr>\n",
       "      <th>1</th>\n",
       "      <td>SM_V7_1</td>\n",
       "      <td>Smp_315690.1</td>\n",
       "      <td>Smp_315690</td>\n",
       "      <td>2</td>\n",
       "      <td>-</td>\n",
       "      <td>143206</td>\n",
       "      <td>145394</td>\n",
       "      <td>2189</td>\n",
       "      <td>2</td>\n",
       "    </tr>\n",
       "    <tr>\n",
       "      <th>2</th>\n",
       "      <td>SM_V7_1</td>\n",
       "      <td>Smp_315690.1</td>\n",
       "      <td>Smp_315690</td>\n",
       "      <td>3</td>\n",
       "      <td>-</td>\n",
       "      <td>103771</td>\n",
       "      <td>142980</td>\n",
       "      <td>39210</td>\n",
       "      <td>1</td>\n",
       "    </tr>\n",
       "    <tr>\n",
       "      <th>3</th>\n",
       "      <td>SM_V7_1</td>\n",
       "      <td>Smp_315690.2</td>\n",
       "      <td>Smp_315690</td>\n",
       "      <td>1</td>\n",
       "      <td>-</td>\n",
       "      <td>145679</td>\n",
       "      <td>151074</td>\n",
       "      <td>5396</td>\n",
       "      <td>6</td>\n",
       "    </tr>\n",
       "    <tr>\n",
       "      <th>4</th>\n",
       "      <td>SM_V7_1</td>\n",
       "      <td>Smp_315690.2</td>\n",
       "      <td>Smp_315690</td>\n",
       "      <td>2</td>\n",
       "      <td>-</td>\n",
       "      <td>143206</td>\n",
       "      <td>145394</td>\n",
       "      <td>2189</td>\n",
       "      <td>5</td>\n",
       "    </tr>\n",
       "  </tbody>\n",
       "</table>\n",
       "</div>"
      ],
      "text/plain": [
       "     SeqID          mRNA        Gene  Position Strand   Start     End   Size  \\\n",
       "0  SM_V7_1  Smp_315690.1  Smp_315690         1      -  145679  151074   5396   \n",
       "1  SM_V7_1  Smp_315690.1  Smp_315690         2      -  143206  145394   2189   \n",
       "2  SM_V7_1  Smp_315690.1  Smp_315690         3      -  103771  142980  39210   \n",
       "3  SM_V7_1  Smp_315690.2  Smp_315690         1      -  145679  151074   5396   \n",
       "4  SM_V7_1  Smp_315690.2  Smp_315690         2      -  143206  145394   2189   \n",
       "\n",
       "   Position_3to5  \n",
       "0              3  \n",
       "1              2  \n",
       "2              1  \n",
       "3              6  \n",
       "4              5  "
      ]
     },
     "execution_count": 35,
     "metadata": {},
     "output_type": "execute_result"
    }
   ],
   "source": [
    "introns_df['Position_3to5'] = introns_df.groupby('mRNA').cumcount(ascending=False)+1\n",
    "introns_df.head()"
   ]
  },
  {
   "cell_type": "markdown",
   "metadata": {
    "id": "1TaW2HLZ3ikg"
   },
   "source": [
    "b)"
   ]
  },
  {
   "cell_type": "code",
   "execution_count": 36,
   "metadata": {
    "colab": {
     "base_uri": "https://localhost:8080/",
     "height": 198
    },
    "id": "YqfSOwsR4UJs",
    "outputId": "8da59564-15c6-4d94-e74d-c7baa41a94ff"
   },
   "outputs": [
    {
     "name": "stdout",
     "output_type": "stream",
     "text": [
      "1466.5\n",
      "1095.0\n",
      "1331.0\n",
      "1559.0\n",
      "...\n",
      "1750.0\n",
      "1690.0\n",
      "1664.0\n",
      "1617.0\n",
      "...\n"
     ]
    }
   ],
   "source": [
    "# Solution 1:\n",
    "\n",
    "print(introns_df[introns_df['Position']==1]['Size'].median())\n",
    "print(introns_df[introns_df['Position']==2]['Size'].median())\n",
    "print(introns_df[introns_df['Position']==3]['Size'].median())\n",
    "print(introns_df[introns_df['Position']==4]['Size'].median())\n",
    "print('...')\n",
    "print(introns_df[introns_df['Position_3to5']==1]['Size'].median())\n",
    "print(introns_df[introns_df['Position_3to5']==2]['Size'].median())\n",
    "print(introns_df[introns_df['Position_3to5']==3]['Size'].median())\n",
    "print(introns_df[introns_df['Position_3to5']==4]['Size'].median())\n",
    "print('...')\n"
   ]
  },
  {
   "cell_type": "code",
   "execution_count": 37,
   "metadata": {
    "colab": {
     "base_uri": "https://localhost:8080/",
     "height": 380
    },
    "id": "A4YalXLYD77o",
    "outputId": "a0cfb414-766f-45ff-f28d-93d503c504b1"
   },
   "outputs": [
    {
     "name": "stdout",
     "output_type": "stream",
     "text": [
      "position 1 (5'-> 3'): 1466.5\n",
      "position 1 (3'-> 5'): 1750.0\n",
      "position 2 (5'-> 3'): 1095.0\n",
      "position 2 (3'-> 5'): 1690.0\n",
      "position 3 (5'-> 3'): 1331.0\n",
      "position 3 (3'-> 5'): 1664.0\n",
      "position 4 (5'-> 3'): 1559.0\n",
      "position 4 (3'-> 5'): 1617.0\n",
      "position 5 (5'-> 3'): 1696.0\n",
      "position 5 (3'-> 5'): 1594.0\n",
      "position 6 (5'-> 3'): 1751.0\n",
      "position 6 (3'-> 5'): 1589.0\n",
      "position 7 (5'-> 3'): 1795.0\n",
      "position 7 (3'-> 5'): 1503.0\n",
      "position 8 (5'-> 3'): 1794.0\n",
      "position 8 (3'-> 5'): 1597.5\n",
      "position 9 (5'-> 3'): 1773.5\n",
      "position 9 (3'-> 5'): 1548.5\n",
      "position 10 (5'-> 3'): 1763.0\n",
      "position 10 (3'-> 5'): 1565.0\n"
     ]
    }
   ],
   "source": [
    "# Solution 2:\n",
    "\n",
    "for position in range(1, 11):\n",
    "  median_5to3 = introns_df[introns_df['Position']==position]['Size'].median()\n",
    "  median_3to5 = introns_df[introns_df['Position_3to5']==position]['Size'].median()\n",
    "  print(f\"position {position} (5'-> 3'): {median_5to3}\")\n",
    "  print(f\"position {position} (3'-> 5'): {median_3to5}\")"
   ]
  },
  {
   "cell_type": "markdown",
   "metadata": {
    "id": "mi_xCCQn9_3o"
   },
   "source": [
    "Challenge."
   ]
  },
  {
   "cell_type": "code",
   "execution_count": 38,
   "metadata": {
    "colab": {
     "base_uri": "https://localhost:8080/",
     "height": 53
    },
    "id": "2IhowiUg9M8W",
    "outputId": "97b41e25-d937-4537-8686-a9b280d5c8f0"
   },
   "outputs": [
    {
     "name": "stdout",
     "output_type": "stream",
     "text": [
      "[np.float64(1466.5), np.float64(1095.0), np.float64(1331.0), np.float64(1559.0), np.float64(1696.0), np.float64(1751.0), np.float64(1795.0), np.float64(1794.0), np.float64(1773.5), np.float64(1763.0)]\n",
      "[np.float64(1750.0), np.float64(1690.0), np.float64(1664.0), np.float64(1617.0), np.float64(1594.0), np.float64(1589.0), np.float64(1503.0), np.float64(1597.5), np.float64(1548.5), np.float64(1565.0)]\n"
     ]
    }
   ],
   "source": [
    "size_5to3_list = []\n",
    "size_3to5_list = []\n",
    "\n",
    "for position in range(1, 11):\n",
    "  median_5to3 = introns_df[introns_df['Position']==position]['Size'].median()\n",
    "  median_3to5 = introns_df[introns_df['Position_3to5']==position]['Size'].median()\n",
    "  size_5to3_list.append(median_5to3)\n",
    "  size_3to5_list.append(median_3to5)\n",
    "\n",
    "print(size_5to3_list) \n",
    "print(size_3to5_list)\n"
   ]
  },
  {
   "cell_type": "code",
   "execution_count": 39,
   "metadata": {
    "colab": {
     "base_uri": "https://localhost:8080/",
     "height": 729
    },
    "id": "VyKPqaR6--Ca",
    "outputId": "df6afd88-82a4-41d8-c395-cf7431269604"
   },
   "outputs": [
    {
     "data": {
      "image/png": "[encoded data removed]",
      "text/plain": [
       "<Figure size 1000x1000 with 3 Axes>"
      ]
     },
     "metadata": {},
     "output_type": "display_data"
    }
   ],
   "source": [
    "size_figure = plt.figure(figsize=[10, 10])\n",
    "size_subplot1 = size_figure.add_subplot(3, 1, 1)\n",
    "size_subplot2 = size_figure.add_subplot(3, 1, 2)\n",
    "size_subplot3 = size_figure.add_subplot(3, 1, 3)\n",
    "\n",
    "position_list = [1, 2, 3, 4, 5, 6, 7, 8, 9, 10]\n",
    "\n",
    "size_subplot1.plot(position_list, size_5to3_list)\n",
    "size_subplot1.set_ylabel('Median of Size (bp)\\n', fontsize='large')\n",
    "size_subplot1.set_xlabel('\\nPosition', fontsize='large')\n",
    "size_subplot1.set_title('Median size of introns per position (5 to 3)\\n\\n', \n",
    "                        fontsize=14)\n",
    "\n",
    "size_subplot2.plot(position_list, size_3to5_list)\n",
    "size_subplot2.set_ylabel('Median of Size (bp)\\n', fontsize='large')\n",
    "size_subplot2.set_xlabel('\\nPosition', fontsize='large')\n",
    "size_subplot2.set_title('Median size of introns per position (3 to 5)\\n\\n', \n",
    "                        fontsize=14)\n",
    "\n",
    "size_subplot3.plot(position_list, size_5to3_list, label='5to3')\n",
    "size_subplot3.plot(position_list, size_3to5_list, label='3to5')\n",
    "size_subplot3.legend(frameon=False)\n",
    "size_subplot3.set_ylabel('Median of Size (bp)\\n', fontsize='large')\n",
    "size_subplot3.set_xlabel('\\nPosition', fontsize='large')\n",
    "size_subplot3.set_title('Median size of introns per position\\n\\n', \n",
    "                        fontsize=14)\n",
    "\n",
    "\n",
    "size_figure.tight_layout()\n",
    "size_figure.savefig('6c.png')\n",
    "plt.show()"
   ]
  },
  {
   "cell_type": "code",
   "execution_count": 40,
   "metadata": {},
   "outputs": [
    {
     "data": {
      "image/png": "[encoded data removed]",
      "text/plain": [
       "<Figure size 1500x500 with 3 Axes>"
      ]
     },
     "metadata": {},
     "output_type": "display_data"
    }
   ],
   "source": [
    "import numpy as np\n",
    "import matplotlib.pyplot as plt\n",
    "\n",
    "# Example data\n",
    "positions = np.linspace(1, 100, 100)  # Positions from 1 to 100\n",
    "median_intron_sizes_5to3 = np.random.normal(1000, 200, 100)  # Simulated median intron sizes\n",
    "median_intron_sizes_3to5 = np.random.normal(800, 150, 100)  # Simulated median intron sizes\n",
    "\n",
    "# Figure 1: 5' -> 3'\n",
    "plt.figure(figsize=(15, 5))\n",
    "\n",
    "plt.subplot(1, 3, 1)\n",
    "plt.plot(positions, median_intron_sizes_5to3, label=\"5' -> 3'\", color='blue')\n",
    "plt.title(\"Median Intron Size: 5' -> 3'\")\n",
    "plt.xlabel('Position')\n",
    "plt.ylabel('Median Intron Size')\n",
    "plt.grid(True)\n",
    "plt.legend()\n",
    "\n",
    "# Figure 2: 3' -> 5'\n",
    "plt.subplot(1, 3, 2)\n",
    "plt.plot(positions, median_intron_sizes_3to5, label=\"3' -> 5'\", color='green')\n",
    "plt.title(\"Median Intron Size: 3' -> 5'\")\n",
    "plt.xlabel('Position')\n",
    "plt.ylabel('Median Intron Size')\n",
    "plt.grid(True)\n",
    "plt.legend()\n",
    "\n",
    "# Figure 3: Combined\n",
    "plt.subplot(1, 3, 3)\n",
    "plt.plot(positions, median_intron_sizes_5to3, label=\"5' -> 3'\", color='blue')\n",
    "plt.plot(positions, median_intron_sizes_3to5, label=\"3' -> 5'\", color='green')\n",
    "plt.title(\"Comparison of Directions\")\n",
    "plt.xlabel('Position')\n",
    "plt.ylabel('Median Intron Size')\n",
    "plt.grid(True)\n",
    "plt.legend()\n",
    "\n",
    "plt.suptitle(\"Median Intron Size by Gene Position for Different Transcription Directions\")\n",
    "plt.tight_layout(rect=[0, 0.03, 1, 0.95])\n",
    "plt.show()\n"
   ]
  },
  {
   "cell_type": "code",
   "execution_count": null,
   "metadata": {},
   "outputs": [],
   "source": []
  }
 ],
 "metadata": {
  "colab": {
   "collapsed_sections": [],
   "name": "Dia3_traduzido.ipynb",
   "provenance": []
  },
  "kernelspec": {
   "display_name": ".venv",
   "language": "python",
   "name": "python3"
  },
  "language_info": {
   "codemirror_mode": {
    "name": "ipython",
    "version": 3
   },
   "file_extension": ".py",
   "mimetype": "text/x-python",
   "name": "python",
   "nbconvert_exporter": "python",
   "pygments_lexer": "ipython3",
   "version": "3.10.12"
  }
 },
 "nbformat": 4,
 "nbformat_minor": 1
}
